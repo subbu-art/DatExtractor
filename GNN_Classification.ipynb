{
  "nbformat": 4,
  "nbformat_minor": 0,
  "metadata": {
    "colab": {
      "provenance": [],
      "gpuType": "T4",
      "authorship_tag": "ABX9TyOtA0XPjGfNkzcUjrPCShXM",
      "include_colab_link": true
    },
    "kernelspec": {
      "name": "python3",
      "display_name": "Python 3"
    },
    "language_info": {
      "name": "python"
    },
    "accelerator": "GPU"
  },
  "cells": [
    {
      "cell_type": "markdown",
      "metadata": {
        "id": "view-in-github",
        "colab_type": "text"
      },
      "source": [
        "<a href=\"https://colab.research.google.com/github/subbu-art/DatExtractor/blob/master/GNN_Classification.ipynb\" target=\"_parent\"><img src=\"https://colab.research.google.com/assets/colab-badge.svg\" alt=\"Open In Colab\"/></a>"
      ]
    },
    {
      "cell_type": "code",
      "source": [
        "from torch_geometric.datasets import Planetoid\n",
        "from torch_geometric.transforms import NormalizeFeatures"
      ],
      "metadata": {
        "id": "A0buj_Dwkzf7"
      },
      "execution_count": null,
      "outputs": []
    },
    {
      "cell_type": "code",
      "source": [
        "data = Planetoid(root  = '.', name = 'cora', transform = NormalizeFeatures())"
      ],
      "metadata": {
        "colab": {
          "base_uri": "https://localhost:8080/"
        },
        "id": "ioD-TkkYcMED",
        "outputId": "a853b2a6-f22c-4a21-9a8e-3b43b8323b53"
      },
      "execution_count": null,
      "outputs": [
        {
          "output_type": "stream",
          "name": "stderr",
          "text": [
            "Downloading https://github.com/kimiyoung/planetoid/raw/master/data/ind.cora.x\n",
            "Downloading https://github.com/kimiyoung/planetoid/raw/master/data/ind.cora.tx\n",
            "Downloading https://github.com/kimiyoung/planetoid/raw/master/data/ind.cora.allx\n",
            "Downloading https://github.com/kimiyoung/planetoid/raw/master/data/ind.cora.y\n",
            "Downloading https://github.com/kimiyoung/planetoid/raw/master/data/ind.cora.ty\n",
            "Downloading https://github.com/kimiyoung/planetoid/raw/master/data/ind.cora.ally\n",
            "Downloading https://github.com/kimiyoung/planetoid/raw/master/data/ind.cora.graph\n",
            "Downloading https://github.com/kimiyoung/planetoid/raw/master/data/ind.cora.test.index\n",
            "Processing...\n",
            "Done!\n"
          ]
        }
      ]
    },
    {
      "cell_type": "code",
      "source": [
        "data"
      ],
      "metadata": {
        "colab": {
          "base_uri": "https://localhost:8080/"
        },
        "id": "l_B4CEl2clVJ",
        "outputId": "74739e66-17d2-449f-e0a1-147c0676935b"
      },
      "execution_count": null,
      "outputs": [
        {
          "output_type": "execute_result",
          "data": {
            "text/plain": [
              "cora()"
            ]
          },
          "metadata": {},
          "execution_count": 27
        }
      ]
    },
    {
      "cell_type": "code",
      "source": [
        "data.num_features"
      ],
      "metadata": {
        "colab": {
          "base_uri": "https://localhost:8080/"
        },
        "id": "ZCw17pK0cnY3",
        "outputId": "45e0cea8-7592-4d87-bd27-e9eee0de14a0"
      },
      "execution_count": null,
      "outputs": [
        {
          "output_type": "execute_result",
          "data": {
            "text/plain": [
              "1433"
            ]
          },
          "metadata": {},
          "execution_count": 28
        }
      ]
    },
    {
      "cell_type": "code",
      "source": [
        "data.get_summary()"
      ],
      "metadata": {
        "colab": {
          "base_uri": "https://localhost:8080/"
        },
        "id": "HLLI5fUTcpdC",
        "outputId": "731defd3-16e7-4445-f756-7d21006aabb4"
      },
      "execution_count": null,
      "outputs": [
        {
          "output_type": "stream",
          "name": "stderr",
          "text": [
            "/usr/local/lib/python3.10/dist-packages/torch_geometric/data/summary.py:34: UserWarning: std(): degrees of freedom is <= 0. Correction should be strictly less than the reduction factor (input numel divided by output numel). (Triggered internally at ../aten/src/ATen/native/ReduceOps.cpp:1760.)\n",
            "  std=data.std().item(),\n"
          ]
        },
        {
          "output_type": "execute_result",
          "data": {
            "text/plain": [
              "Planetoid (#graphs=1):\n",
              "+------------+----------+----------+\n",
              "|            |   #nodes |   #edges |\n",
              "|------------+----------+----------|\n",
              "| mean       |     2708 |    10556 |\n",
              "| std        |      nan |      nan |\n",
              "| min        |     2708 |    10556 |\n",
              "| quantile25 |     2708 |    10556 |\n",
              "| median     |     2708 |    10556 |\n",
              "| quantile75 |     2708 |    10556 |\n",
              "| max        |     2708 |    10556 |\n",
              "+------------+----------+----------+"
            ]
          },
          "metadata": {},
          "execution_count": 29
        }
      ]
    },
    {
      "cell_type": "code",
      "source": [
        "data.num_classes"
      ],
      "metadata": {
        "colab": {
          "base_uri": "https://localhost:8080/"
        },
        "id": "waDOV-Hvc6F3",
        "outputId": "85c67a0d-49ce-485d-8f19-3a121ef4bfff"
      },
      "execution_count": null,
      "outputs": [
        {
          "output_type": "execute_result",
          "data": {
            "text/plain": [
              "7"
            ]
          },
          "metadata": {},
          "execution_count": 30
        }
      ]
    },
    {
      "cell_type": "code",
      "source": [
        "data.num_node_features"
      ],
      "metadata": {
        "colab": {
          "base_uri": "https://localhost:8080/"
        },
        "id": "5tXv4RKzdGqA",
        "outputId": "bd5c90f5-ae14-4d91-d900-b8d1be751887"
      },
      "execution_count": null,
      "outputs": [
        {
          "output_type": "execute_result",
          "data": {
            "text/plain": [
              "1433"
            ]
          },
          "metadata": {},
          "execution_count": 31
        }
      ]
    },
    {
      "cell_type": "code",
      "source": [
        "data_ext = data[0]"
      ],
      "metadata": {
        "id": "BJh0f_DWdW8p"
      },
      "execution_count": null,
      "outputs": []
    },
    {
      "cell_type": "code",
      "source": [
        "data"
      ],
      "metadata": {
        "colab": {
          "base_uri": "https://localhost:8080/"
        },
        "id": "eQSVGEUDdcaI",
        "outputId": "c3889f77-17c3-4757-c321-8af91221a8c0"
      },
      "execution_count": null,
      "outputs": [
        {
          "output_type": "execute_result",
          "data": {
            "text/plain": [
              "Data(x=[2708, 1433], edge_index=[2, 10556], y=[2708], train_mask=[2708], val_mask=[2708], test_mask=[2708])"
            ]
          },
          "metadata": {},
          "execution_count": 13
        }
      ]
    },
    {
      "cell_type": "code",
      "source": [
        "# The features per node(per paper) is dervied from bag of word style representation."
      ],
      "metadata": {
        "id": "zyrh_HS5feCy"
      },
      "execution_count": null,
      "outputs": []
    },
    {
      "cell_type": "code",
      "source": [
        "data_ext.x[0][:30]"
      ],
      "metadata": {
        "colab": {
          "base_uri": "https://localhost:8080/"
        },
        "id": "DDO9TBoUddux",
        "outputId": "ed593d23-d1f2-4c6f-ef4e-779f32432d2e"
      },
      "execution_count": null,
      "outputs": [
        {
          "output_type": "execute_result",
          "data": {
            "text/plain": [
              "tensor([0.0000, 0.0000, 0.0000, 0.0000, 0.0000, 0.0000, 0.0000, 0.0000, 0.0000,\n",
              "        0.0000, 0.0000, 0.0000, 0.0000, 0.0000, 0.0000, 0.0000, 0.0000, 0.0000,\n",
              "        0.0000, 0.1111, 0.0000, 0.0000, 0.0000, 0.0000, 0.0000, 0.0000, 0.0000,\n",
              "        0.0000, 0.0000, 0.0000])"
            ]
          },
          "metadata": {},
          "execution_count": 34
        }
      ]
    },
    {
      "cell_type": "code",
      "source": [
        "data_ext.y"
      ],
      "metadata": {
        "colab": {
          "base_uri": "https://localhost:8080/"
        },
        "id": "tqAsLmrpegZl",
        "outputId": "2e396fa4-494d-4294-ec1d-898aef1a58a6"
      },
      "execution_count": null,
      "outputs": [
        {
          "output_type": "execute_result",
          "data": {
            "text/plain": [
              "tensor([3, 4, 4,  ..., 3, 3, 3])"
            ]
          },
          "metadata": {},
          "execution_count": 35
        }
      ]
    },
    {
      "cell_type": "code",
      "source": [
        "data_ext.test_mask\n",
        "data.num_classes"
      ],
      "metadata": {
        "colab": {
          "base_uri": "https://localhost:8080/"
        },
        "id": "Zwsax5HcfySH",
        "outputId": "a5c4aaf0-ae59-4aed-f8b4-0b0c5ef54331"
      },
      "execution_count": null,
      "outputs": [
        {
          "output_type": "execute_result",
          "data": {
            "text/plain": [
              "7"
            ]
          },
          "metadata": {},
          "execution_count": 37
        }
      ]
    },
    {
      "cell_type": "code",
      "source": [
        "# Graph Neural Network"
      ],
      "metadata": {
        "id": "huPZ7zgAf6Aj"
      },
      "execution_count": null,
      "outputs": []
    },
    {
      "cell_type": "code",
      "source": [
        "import torch.nn as nn\n",
        "import torch\n",
        "import torch.nn.functional as F\n",
        "from torch.nn import Linear\n",
        "from torch_geometric.nn import GCNConv, GATConv"
      ],
      "metadata": {
        "id": "BATb2QY0gQw7"
      },
      "execution_count": null,
      "outputs": []
    },
    {
      "cell_type": "code",
      "source": [
        "class GNNClassification(nn.Module):\n",
        "  def __init__(self, channels):\n",
        "    super(GNNClassification, self).__init__()\n",
        "    torch.manual_seed(42)\n",
        "    #intializing layers\n",
        "    self.GNNLayer1 = GCNConv(data.num_features, channels)\n",
        "    self.GNNLayer2 = GCNConv(channels, channels)\n",
        "    self.GNNLayer3 = GCNConv(channels, channels)\n",
        "    self.GNNLayer4 = GCNConv(channels, channels)\n",
        "    #output layer\n",
        "    self.GNNOut = Linear(channels, data.num_classes)\n",
        "\n",
        "  def forward(self, x, edge_index):\n",
        "    x = self.GNNLayer1(x, edge_index)\n",
        "    x = x.relu()\n",
        "    x = F.dropout(x, p = 0.2, training = self.training)\n",
        "\n",
        "    x = self.GNNLayer2(x, edge_index)\n",
        "    x = x.relu()\n",
        "    x = F.dropout(x, p = 0.2, training = self.training)\n",
        "\n",
        "    x = self.GNNLayer3(x, edge_index)\n",
        "    x = x.relu()\n",
        "    x = F.dropout(x, p = 0.2, training = self.training)\n",
        "\n",
        "    x = self.GNNLayer4(x, edge_index)\n",
        "    x = x.relu()\n",
        "    x = F.dropout(x, p = 0.2, training = self.training)\n",
        "\n",
        "    y = F.softmax(self.GNNOut(x), dim = 1)\n",
        "    return y\n",
        "\n",
        "model = GNNClassification(channels = 16)\n"
      ],
      "metadata": {
        "id": "2ybZaJBygFZI"
      },
      "execution_count": null,
      "outputs": []
    },
    {
      "cell_type": "code",
      "source": [
        "# Train the model"
      ],
      "metadata": {
        "id": "2TbYjP_Mhdvb"
      },
      "execution_count": null,
      "outputs": []
    },
    {
      "cell_type": "code",
      "source": [
        "learning_rate = 3e-4\n",
        "\n",
        "optimizer = torch.optim.AdamW(model.parameters(), lr = learning_rate)\n",
        "\n",
        "\n",
        "\n",
        "def train():\n",
        "  model.train()\n",
        "  optimizer.zero_grad()\n",
        "  out = model(data_ext.x, data_ext.edge_index)\n",
        "\n",
        "  loss = F.cross_entropy(out[data_ext.train_mask], data.y[data_ext.train_mask])\n",
        "\n",
        "  loss.backward()\n",
        "\n",
        "  optimizer.step()\n",
        "\n",
        "  return loss\n",
        "\n",
        "losses = []\n",
        "for epoch in range(12000):\n",
        "  loss = train()\n",
        "  losses.append(loss)\n",
        "  if epoch%200 == 0:\n",
        "    print(f'Epoch: {epoch:03d}, Loss: {loss:.4f}')"
      ],
      "metadata": {
        "colab": {
          "base_uri": "https://localhost:8080/"
        },
        "id": "S84Fx2TPkrt7",
        "outputId": "1e4f3338-043e-4a08-8a65-5b4071916abf"
      },
      "execution_count": null,
      "outputs": [
        {
          "output_type": "stream",
          "name": "stdout",
          "text": [
            "Epoch: 000, Loss: 1.9461\n",
            "Epoch: 200, Loss: 1.9201\n",
            "Epoch: 400, Loss: 1.7165\n",
            "Epoch: 600, Loss: 1.5387\n",
            "Epoch: 800, Loss: 1.3591\n",
            "Epoch: 1000, Loss: 1.2964\n",
            "Epoch: 1200, Loss: 1.3038\n",
            "Epoch: 1400, Loss: 1.2772\n",
            "Epoch: 1600, Loss: 1.2339\n",
            "Epoch: 1800, Loss: 1.2213\n",
            "Epoch: 2000, Loss: 1.1971\n",
            "Epoch: 2200, Loss: 1.1988\n",
            "Epoch: 2400, Loss: 1.1988\n",
            "Epoch: 2600, Loss: 1.1922\n",
            "Epoch: 2800, Loss: 1.1949\n",
            "Epoch: 3000, Loss: 1.2062\n",
            "Epoch: 3200, Loss: 1.1908\n",
            "Epoch: 3400, Loss: 1.1921\n",
            "Epoch: 3600, Loss: 1.1751\n",
            "Epoch: 3800, Loss: 1.1842\n",
            "Epoch: 4000, Loss: 1.1914\n",
            "Epoch: 4200, Loss: 1.1835\n",
            "Epoch: 4400, Loss: 1.1821\n",
            "Epoch: 4600, Loss: 1.1835\n",
            "Epoch: 4800, Loss: 1.1799\n",
            "Epoch: 5000, Loss: 1.1791\n",
            "Epoch: 5200, Loss: 1.1821\n",
            "Epoch: 5400, Loss: 1.1862\n",
            "Epoch: 5600, Loss: 1.1764\n"
          ]
        }
      ]
    },
    {
      "cell_type": "code",
      "source": [
        "import seaborn as sns\n",
        "losses_float = [float(loss.cpu().detach().numpy()) for loss in losses]\n",
        "loss_indices = [i for i,l in enumerate(losses_float)]\n",
        "plt = sns.lineplot(losses_float)\n",
        "plt"
      ],
      "metadata": {
        "colab": {
          "base_uri": "https://localhost:8080/",
          "height": 218
        },
        "id": "xct8ZqV2vP9F",
        "outputId": "723138ae-3602-41af-e261-3285fd6d1d6e"
      },
      "execution_count": null,
      "outputs": [
        {
          "output_type": "error",
          "ename": "NameError",
          "evalue": "name 'losses' is not defined",
          "traceback": [
            "\u001b[0;31m---------------------------------------------------------------------------\u001b[0m",
            "\u001b[0;31mNameError\u001b[0m                                 Traceback (most recent call last)",
            "\u001b[0;32m<ipython-input-1-a45982b4328c>\u001b[0m in \u001b[0;36m<cell line: 2>\u001b[0;34m()\u001b[0m\n\u001b[1;32m      1\u001b[0m \u001b[0;32mimport\u001b[0m \u001b[0mseaborn\u001b[0m \u001b[0;32mas\u001b[0m \u001b[0msns\u001b[0m\u001b[0;34m\u001b[0m\u001b[0;34m\u001b[0m\u001b[0m\n\u001b[0;32m----> 2\u001b[0;31m \u001b[0mlosses_float\u001b[0m \u001b[0;34m=\u001b[0m \u001b[0;34m[\u001b[0m\u001b[0mfloat\u001b[0m\u001b[0;34m(\u001b[0m\u001b[0mloss\u001b[0m\u001b[0;34m.\u001b[0m\u001b[0mcpu\u001b[0m\u001b[0;34m(\u001b[0m\u001b[0;34m)\u001b[0m\u001b[0;34m.\u001b[0m\u001b[0mdetach\u001b[0m\u001b[0;34m(\u001b[0m\u001b[0;34m)\u001b[0m\u001b[0;34m.\u001b[0m\u001b[0mnumpy\u001b[0m\u001b[0;34m(\u001b[0m\u001b[0;34m)\u001b[0m\u001b[0;34m)\u001b[0m \u001b[0;32mfor\u001b[0m \u001b[0mloss\u001b[0m \u001b[0;32min\u001b[0m \u001b[0mlosses\u001b[0m\u001b[0;34m]\u001b[0m\u001b[0;34m\u001b[0m\u001b[0;34m\u001b[0m\u001b[0m\n\u001b[0m\u001b[1;32m      3\u001b[0m \u001b[0mloss_indices\u001b[0m \u001b[0;34m=\u001b[0m \u001b[0;34m[\u001b[0m\u001b[0mi\u001b[0m \u001b[0;32mfor\u001b[0m \u001b[0mi\u001b[0m\u001b[0;34m,\u001b[0m\u001b[0ml\u001b[0m \u001b[0;32min\u001b[0m \u001b[0menumerate\u001b[0m\u001b[0;34m(\u001b[0m\u001b[0mlosses_float\u001b[0m\u001b[0;34m)\u001b[0m\u001b[0;34m]\u001b[0m\u001b[0;34m\u001b[0m\u001b[0;34m\u001b[0m\u001b[0m\n\u001b[1;32m      4\u001b[0m \u001b[0mplt\u001b[0m \u001b[0;34m=\u001b[0m \u001b[0msns\u001b[0m\u001b[0;34m.\u001b[0m\u001b[0mlineplot\u001b[0m\u001b[0;34m(\u001b[0m\u001b[0mlosses_float\u001b[0m\u001b[0;34m)\u001b[0m\u001b[0;34m\u001b[0m\u001b[0;34m\u001b[0m\u001b[0m\n\u001b[1;32m      5\u001b[0m \u001b[0mplt\u001b[0m\u001b[0;34m\u001b[0m\u001b[0;34m\u001b[0m\u001b[0m\n",
            "\u001b[0;31mNameError\u001b[0m: name 'losses' is not defined"
          ]
        }
      ]
    },
    {
      "cell_type": "code",
      "source": [
        "#Testing the model"
      ],
      "metadata": {
        "id": "Nnvy3FJNqsgQ"
      },
      "execution_count": null,
      "outputs": []
    },
    {
      "cell_type": "code",
      "source": [],
      "metadata": {
        "id": "ScmyyU-7vNWT"
      },
      "execution_count": null,
      "outputs": []
    },
    {
      "cell_type": "code",
      "source": [
        "def test():\n",
        "  model.eval()\n",
        "  out = model(data_ext.x, data_ext.edge_index)\n",
        "\n",
        "  pred = out.argmax(dim=1)\n",
        "\n",
        "  test_correct  = pred[data.test_mask] == data.y[data.test_mask]\n",
        "\n",
        "  test_acc = int(test_correct.sum())/int(data.test_mask.sum())\n",
        "\n",
        "\n",
        "  return test_acc"
      ],
      "metadata": {
        "id": "MPnL3-awt4rg"
      },
      "execution_count": null,
      "outputs": []
    },
    {
      "cell_type": "code",
      "source": [
        "test_acc = test()\n",
        "print(f'Test Accuracy: {test_acc:.4f}')"
      ],
      "metadata": {
        "colab": {
          "base_uri": "https://localhost:8080/"
        },
        "id": "T_GmUPF1vXdj",
        "outputId": "5136b7a4-d87a-42d9-bbf0-be7813e4f0e6"
      },
      "execution_count": null,
      "outputs": [
        {
          "output_type": "stream",
          "name": "stdout",
          "text": [
            "Test Accuracy: 0.7540\n"
          ]
        }
      ]
    }
  ]
}