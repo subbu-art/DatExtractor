{
  "nbformat": 4,
  "nbformat_minor": 0,
  "metadata": {
    "colab": {
      "provenance": [],
      "gpuType": "T4",
      "authorship_tag": "ABX9TyNYuOp+7CLadHwgACMWMMbl",
      "include_colab_link": true
    },
    "kernelspec": {
      "name": "python3",
      "display_name": "Python 3"
    },
    "language_info": {
      "name": "python"
    },
    "accelerator": "GPU"
  },
  "cells": [
    {
      "cell_type": "markdown",
      "metadata": {
        "id": "view-in-github",
        "colab_type": "text"
      },
      "source": [
        "<a href=\"https://colab.research.google.com/github/subbu-art/DatExtractor/blob/master/GNN_ESOL.ipynb\" target=\"_parent\"><img src=\"https://colab.research.google.com/assets/colab-badge.svg\" alt=\"Open In Colab\"/></a>"
      ]
    },
    {
      "cell_type": "code",
      "source": [
        "!pip install torch\n"
      ],
      "metadata": {
        "colab": {
          "base_uri": "https://localhost:8080/"
        },
        "id": "AO96DT0SuI1x",
        "outputId": "8e97205b-4d6c-4147-ba93-05cee7936d60"
      },
      "execution_count": null,
      "outputs": [
        {
          "output_type": "stream",
          "name": "stdout",
          "text": [
            "Requirement already satisfied: torch in /usr/local/lib/python3.10/dist-packages (2.2.1+cu121)\n",
            "Requirement already satisfied: filelock in /usr/local/lib/python3.10/dist-packages (from torch) (3.13.1)\n",
            "Requirement already satisfied: typing-extensions>=4.8.0 in /usr/local/lib/python3.10/dist-packages (from torch) (4.10.0)\n",
            "Requirement already satisfied: sympy in /usr/local/lib/python3.10/dist-packages (from torch) (1.12)\n",
            "Requirement already satisfied: networkx in /usr/local/lib/python3.10/dist-packages (from torch) (3.2.1)\n",
            "Requirement already satisfied: jinja2 in /usr/local/lib/python3.10/dist-packages (from torch) (3.1.3)\n",
            "Requirement already satisfied: fsspec in /usr/local/lib/python3.10/dist-packages (from torch) (2023.6.0)\n",
            "Requirement already satisfied: nvidia-cuda-nvrtc-cu12==12.1.105 in /usr/local/lib/python3.10/dist-packages (from torch) (12.1.105)\n",
            "Requirement already satisfied: nvidia-cuda-runtime-cu12==12.1.105 in /usr/local/lib/python3.10/dist-packages (from torch) (12.1.105)\n",
            "Requirement already satisfied: nvidia-cuda-cupti-cu12==12.1.105 in /usr/local/lib/python3.10/dist-packages (from torch) (12.1.105)\n",
            "Requirement already satisfied: nvidia-cudnn-cu12==8.9.2.26 in /usr/local/lib/python3.10/dist-packages (from torch) (8.9.2.26)\n",
            "Requirement already satisfied: nvidia-cublas-cu12==12.1.3.1 in /usr/local/lib/python3.10/dist-packages (from torch) (12.1.3.1)\n",
            "Requirement already satisfied: nvidia-cufft-cu12==11.0.2.54 in /usr/local/lib/python3.10/dist-packages (from torch) (11.0.2.54)\n",
            "Requirement already satisfied: nvidia-curand-cu12==10.3.2.106 in /usr/local/lib/python3.10/dist-packages (from torch) (10.3.2.106)\n",
            "Requirement already satisfied: nvidia-cusolver-cu12==11.4.5.107 in /usr/local/lib/python3.10/dist-packages (from torch) (11.4.5.107)\n",
            "Requirement already satisfied: nvidia-cusparse-cu12==12.1.0.106 in /usr/local/lib/python3.10/dist-packages (from torch) (12.1.0.106)\n",
            "Requirement already satisfied: nvidia-nccl-cu12==2.19.3 in /usr/local/lib/python3.10/dist-packages (from torch) (2.19.3)\n",
            "Requirement already satisfied: nvidia-nvtx-cu12==12.1.105 in /usr/local/lib/python3.10/dist-packages (from torch) (12.1.105)\n",
            "Requirement already satisfied: triton==2.2.0 in /usr/local/lib/python3.10/dist-packages (from torch) (2.2.0)\n",
            "Requirement already satisfied: nvidia-nvjitlink-cu12 in /usr/local/lib/python3.10/dist-packages (from nvidia-cusolver-cu12==11.4.5.107->torch) (12.4.99)\n",
            "Requirement already satisfied: MarkupSafe>=2.0 in /usr/local/lib/python3.10/dist-packages (from jinja2->torch) (2.1.5)\n",
            "Requirement already satisfied: mpmath>=0.19 in /usr/local/lib/python3.10/dist-packages (from sympy->torch) (1.3.0)\n"
          ]
        }
      ]
    },
    {
      "cell_type": "code",
      "source": [
        "!pip install rdkit-pypi"
      ],
      "metadata": {
        "colab": {
          "base_uri": "https://localhost:8080/"
        },
        "id": "9NJ0JR4VuKog",
        "outputId": "3f2b1f6e-1e64-4e90-a503-6b7d6dfd380b"
      },
      "execution_count": null,
      "outputs": [
        {
          "output_type": "stream",
          "name": "stdout",
          "text": [
            "Requirement already satisfied: rdkit-pypi in /usr/local/lib/python3.10/dist-packages (2022.9.5)\n",
            "Requirement already satisfied: numpy in /usr/local/lib/python3.10/dist-packages (from rdkit-pypi) (1.25.2)\n",
            "Requirement already satisfied: Pillow in /usr/local/lib/python3.10/dist-packages (from rdkit-pypi) (9.4.0)\n"
          ]
        }
      ]
    },
    {
      "cell_type": "code",
      "source": [
        "import torch\n",
        "print(torch.__version__)"
      ],
      "metadata": {
        "colab": {
          "base_uri": "https://localhost:8080/"
        },
        "id": "vxK884yiuSsn",
        "outputId": "943671cb-ad06-4e27-a51b-ce4b9c0c3c40"
      },
      "execution_count": null,
      "outputs": [
        {
          "output_type": "stream",
          "name": "stdout",
          "text": [
            "2.2.1+cu121\n"
          ]
        }
      ]
    },
    {
      "cell_type": "code",
      "source": [
        "import torch\n",
        "pytorch_version = f\"torch-{torch.__version__}.html\"\n",
        "!pip install --no-index torch-scatter -f https://pytorch-geometric.com/whl/$pytorch_version\n",
        "!pip install --no-index torch-sparse -f https://pytorch-geometric.com/whl/$pytorch_version\n",
        "!pip install --no-index torch-cluster -f https://pytorch-geometric.com/whl/$pytorch_version\n",
        "!pip install --no-index torch-spline-conv -f https://pytorch-geometric.com/whl/$pytorch_version\n",
        "!pip install torch-geometric"
      ],
      "metadata": {
        "colab": {
          "base_uri": "https://localhost:8080/"
        },
        "id": "IE2HE1WLuXa8",
        "outputId": "b4170db9-263c-412c-e3e6-68fa778fbc30"
      },
      "execution_count": null,
      "outputs": [
        {
          "output_type": "stream",
          "name": "stdout",
          "text": [
            "Looking in links: https://pytorch-geometric.com/whl/torch-2.2.1+cu121.html\n",
            "Collecting torch-scatter\n",
            "  Downloading https://data.pyg.org/whl/torch-2.2.0%2Bcu121/torch_scatter-2.1.2%2Bpt22cu121-cp310-cp310-linux_x86_64.whl (10.9 MB)\n",
            "\u001b[2K     \u001b[90m━━━━━━━━━━━━━━━━━━━━━━━━━━━━━━━━━━━━━━━━\u001b[0m \u001b[32m10.9/10.9 MB\u001b[0m \u001b[31m52.3 MB/s\u001b[0m eta \u001b[36m0:00:00\u001b[0m\n",
            "\u001b[?25hInstalling collected packages: torch-scatter\n",
            "Successfully installed torch-scatter-2.1.2+pt22cu121\n",
            "Looking in links: https://pytorch-geometric.com/whl/torch-2.2.1+cu121.html\n",
            "Collecting torch-sparse\n",
            "  Downloading https://data.pyg.org/whl/torch-2.2.0%2Bcu121/torch_sparse-0.6.18%2Bpt22cu121-cp310-cp310-linux_x86_64.whl (5.0 MB)\n",
            "\u001b[2K     \u001b[90m━━━━━━━━━━━━━━━━━━━━━━━━━━━━━━━━━━━━━━━━\u001b[0m \u001b[32m5.0/5.0 MB\u001b[0m \u001b[31m34.1 MB/s\u001b[0m eta \u001b[36m0:00:00\u001b[0m\n",
            "\u001b[?25hRequirement already satisfied: scipy in /usr/local/lib/python3.10/dist-packages (from torch-sparse) (1.11.4)\n",
            "Requirement already satisfied: numpy<1.28.0,>=1.21.6 in /usr/local/lib/python3.10/dist-packages (from scipy->torch-sparse) (1.25.2)\n",
            "Installing collected packages: torch-sparse\n",
            "Successfully installed torch-sparse-0.6.18+pt22cu121\n",
            "Looking in links: https://pytorch-geometric.com/whl/torch-2.2.1+cu121.html\n",
            "Collecting torch-cluster\n",
            "  Downloading https://data.pyg.org/whl/torch-2.2.0%2Bcu121/torch_cluster-1.6.3%2Bpt22cu121-cp310-cp310-linux_x86_64.whl (3.4 MB)\n",
            "\u001b[2K     \u001b[90m━━━━━━━━━━━━━━━━━━━━━━━━━━━━━━━━━━━━━━━━\u001b[0m \u001b[32m3.4/3.4 MB\u001b[0m \u001b[31m15.1 MB/s\u001b[0m eta \u001b[36m0:00:00\u001b[0m\n",
            "\u001b[?25hRequirement already satisfied: scipy in /usr/local/lib/python3.10/dist-packages (from torch-cluster) (1.11.4)\n",
            "Requirement already satisfied: numpy<1.28.0,>=1.21.6 in /usr/local/lib/python3.10/dist-packages (from scipy->torch-cluster) (1.25.2)\n",
            "Installing collected packages: torch-cluster\n",
            "Successfully installed torch-cluster-1.6.3+pt22cu121\n",
            "Looking in links: https://pytorch-geometric.com/whl/torch-2.2.1+cu121.html\n",
            "Collecting torch-spline-conv\n",
            "  Downloading https://data.pyg.org/whl/torch-2.2.0%2Bcu121/torch_spline_conv-1.2.2%2Bpt22cu121-cp310-cp310-linux_x86_64.whl (943 kB)\n",
            "\u001b[2K     \u001b[90m━━━━━━━━━━━━━━━━━━━━━━━━━━━━━━━━━━━━━━━━\u001b[0m \u001b[32m943.4/943.4 kB\u001b[0m \u001b[31m14.3 MB/s\u001b[0m eta \u001b[36m0:00:00\u001b[0m\n",
            "\u001b[?25hInstalling collected packages: torch-spline-conv\n",
            "Successfully installed torch-spline-conv-1.2.2+pt22cu121\n",
            "Collecting torch-geometric\n",
            "  Downloading torch_geometric-2.5.1-py3-none-any.whl (1.1 MB)\n",
            "\u001b[2K     \u001b[90m━━━━━━━━━━━━━━━━━━━━━━━━━━━━━━━━━━━━━━━━\u001b[0m \u001b[32m1.1/1.1 MB\u001b[0m \u001b[31m5.5 MB/s\u001b[0m eta \u001b[36m0:00:00\u001b[0m\n",
            "\u001b[?25hRequirement already satisfied: tqdm in /usr/local/lib/python3.10/dist-packages (from torch-geometric) (4.66.2)\n",
            "Requirement already satisfied: numpy in /usr/local/lib/python3.10/dist-packages (from torch-geometric) (1.25.2)\n",
            "Requirement already satisfied: scipy in /usr/local/lib/python3.10/dist-packages (from torch-geometric) (1.11.4)\n",
            "Requirement already satisfied: fsspec in /usr/local/lib/python3.10/dist-packages (from torch-geometric) (2023.6.0)\n",
            "Requirement already satisfied: jinja2 in /usr/local/lib/python3.10/dist-packages (from torch-geometric) (3.1.3)\n",
            "Requirement already satisfied: aiohttp in /usr/local/lib/python3.10/dist-packages (from torch-geometric) (3.9.3)\n",
            "Requirement already satisfied: requests in /usr/local/lib/python3.10/dist-packages (from torch-geometric) (2.31.0)\n",
            "Requirement already satisfied: pyparsing in /usr/local/lib/python3.10/dist-packages (from torch-geometric) (3.1.2)\n",
            "Requirement already satisfied: scikit-learn in /usr/local/lib/python3.10/dist-packages (from torch-geometric) (1.2.2)\n",
            "Requirement already satisfied: psutil>=5.8.0 in /usr/local/lib/python3.10/dist-packages (from torch-geometric) (5.9.5)\n",
            "Requirement already satisfied: aiosignal>=1.1.2 in /usr/local/lib/python3.10/dist-packages (from aiohttp->torch-geometric) (1.3.1)\n",
            "Requirement already satisfied: attrs>=17.3.0 in /usr/local/lib/python3.10/dist-packages (from aiohttp->torch-geometric) (23.2.0)\n",
            "Requirement already satisfied: frozenlist>=1.1.1 in /usr/local/lib/python3.10/dist-packages (from aiohttp->torch-geometric) (1.4.1)\n",
            "Requirement already satisfied: multidict<7.0,>=4.5 in /usr/local/lib/python3.10/dist-packages (from aiohttp->torch-geometric) (6.0.5)\n",
            "Requirement already satisfied: yarl<2.0,>=1.0 in /usr/local/lib/python3.10/dist-packages (from aiohttp->torch-geometric) (1.9.4)\n",
            "Requirement already satisfied: async-timeout<5.0,>=4.0 in /usr/local/lib/python3.10/dist-packages (from aiohttp->torch-geometric) (4.0.3)\n",
            "Requirement already satisfied: MarkupSafe>=2.0 in /usr/local/lib/python3.10/dist-packages (from jinja2->torch-geometric) (2.1.5)\n",
            "Requirement already satisfied: charset-normalizer<4,>=2 in /usr/local/lib/python3.10/dist-packages (from requests->torch-geometric) (3.3.2)\n",
            "Requirement already satisfied: idna<4,>=2.5 in /usr/local/lib/python3.10/dist-packages (from requests->torch-geometric) (3.6)\n",
            "Requirement already satisfied: urllib3<3,>=1.21.1 in /usr/local/lib/python3.10/dist-packages (from requests->torch-geometric) (2.0.7)\n",
            "Requirement already satisfied: certifi>=2017.4.17 in /usr/local/lib/python3.10/dist-packages (from requests->torch-geometric) (2024.2.2)\n",
            "Requirement already satisfied: joblib>=1.1.1 in /usr/local/lib/python3.10/dist-packages (from scikit-learn->torch-geometric) (1.3.2)\n",
            "Requirement already satisfied: threadpoolctl>=2.0.0 in /usr/local/lib/python3.10/dist-packages (from scikit-learn->torch-geometric) (3.3.0)\n",
            "Installing collected packages: torch-geometric\n",
            "Successfully installed torch-geometric-2.5.1\n"
          ]
        }
      ]
    },
    {
      "cell_type": "code",
      "source": [
        "import rdkit\n",
        "from torch_geometric.datasets import MoleculeNet\n",
        "\n",
        "data = MoleculeNet(root = '.', name = 'ESOL')\n"
      ],
      "metadata": {
        "id": "pn4G07K-uhk6"
      },
      "execution_count": null,
      "outputs": []
    },
    {
      "cell_type": "code",
      "source": [
        "data"
      ],
      "metadata": {
        "colab": {
          "base_uri": "https://localhost:8080/"
        },
        "id": "NeP3BFNfvAdR",
        "outputId": "819be8a6-2054-42c9-cca9-5d4131cdf296"
      },
      "execution_count": null,
      "outputs": [
        {
          "output_type": "execute_result",
          "data": {
            "text/plain": [
              "ESOL(1128)"
            ]
          },
          "metadata": {},
          "execution_count": 8
        }
      ]
    },
    {
      "cell_type": "code",
      "source": [
        "data.num_features"
      ],
      "metadata": {
        "colab": {
          "base_uri": "https://localhost:8080/"
        },
        "id": "BuQ6BnzKvE0M",
        "outputId": "ba30e92d-c488-4819-b76d-42c18d57fd95"
      },
      "execution_count": null,
      "outputs": [
        {
          "output_type": "execute_result",
          "data": {
            "text/plain": [
              "9"
            ]
          },
          "metadata": {},
          "execution_count": 10
        }
      ]
    },
    {
      "cell_type": "code",
      "source": [
        "data[0].num_nodes"
      ],
      "metadata": {
        "colab": {
          "base_uri": "https://localhost:8080/"
        },
        "id": "3vZOKWSCvHG_",
        "outputId": "555a2ad9-06c2-473e-97ec-415c18fedfa8"
      },
      "execution_count": null,
      "outputs": [
        {
          "output_type": "execute_result",
          "data": {
            "text/plain": [
              "32"
            ]
          },
          "metadata": {},
          "execution_count": 14
        }
      ]
    },
    {
      "cell_type": "code",
      "source": [
        "data[0].num_edges"
      ],
      "metadata": {
        "colab": {
          "base_uri": "https://localhost:8080/"
        },
        "id": "2cYUll6XvRbc",
        "outputId": "00283f0f-9280-457a-e5b9-5474d73f4eee"
      },
      "execution_count": null,
      "outputs": [
        {
          "output_type": "execute_result",
          "data": {
            "text/plain": [
              "68"
            ]
          },
          "metadata": {},
          "execution_count": 17
        }
      ]
    },
    {
      "cell_type": "code",
      "source": [
        "for i in range(len(data)):\n",
        "  print(data[i])"
      ],
      "metadata": {
        "id": "_v_s5m9BvXrF"
      },
      "execution_count": null,
      "outputs": []
    },
    {
      "cell_type": "code",
      "source": [
        "data[69].y"
      ],
      "metadata": {
        "colab": {
          "base_uri": "https://localhost:8080/"
        },
        "id": "XszfVvXawOJP",
        "outputId": "0813f2d1-cb10-47e9-817b-acb9a1e3c97f"
      },
      "execution_count": null,
      "outputs": [
        {
          "output_type": "execute_result",
          "data": {
            "text/plain": [
              "tensor([[-5.2700]])"
            ]
          },
          "metadata": {},
          "execution_count": 21
        }
      ]
    },
    {
      "cell_type": "code",
      "source": [
        "data[0].x"
      ],
      "metadata": {
        "colab": {
          "base_uri": "https://localhost:8080/"
        },
        "id": "VFrKaxhiwjKM",
        "outputId": "34c02e0a-0cd7-4331-dc60-246d4cffd1f8"
      },
      "execution_count": null,
      "outputs": [
        {
          "output_type": "execute_result",
          "data": {
            "text/plain": [
              "tensor([[8, 0, 2, 5, 1, 0, 4, 0, 0],\n",
              "        [6, 0, 4, 5, 2, 0, 4, 0, 0],\n",
              "        [6, 0, 4, 5, 1, 0, 4, 0, 1],\n",
              "        [8, 0, 2, 5, 0, 0, 4, 0, 1],\n",
              "        [6, 0, 4, 5, 1, 0, 4, 0, 1],\n",
              "        [8, 0, 2, 5, 0, 0, 4, 0, 0],\n",
              "        [6, 0, 4, 5, 2, 0, 4, 0, 0],\n",
              "        [6, 0, 4, 5, 1, 0, 4, 0, 1],\n",
              "        [8, 0, 2, 5, 0, 0, 4, 0, 1],\n",
              "        [6, 0, 4, 5, 1, 0, 4, 0, 1],\n",
              "        [8, 0, 2, 5, 0, 0, 4, 0, 0],\n",
              "        [6, 0, 4, 5, 1, 0, 4, 0, 0],\n",
              "        [6, 0, 2, 5, 0, 0, 2, 0, 0],\n",
              "        [7, 0, 1, 5, 0, 0, 2, 0, 0],\n",
              "        [6, 0, 3, 5, 0, 0, 3, 1, 1],\n",
              "        [6, 0, 3, 5, 1, 0, 3, 1, 1],\n",
              "        [6, 0, 3, 5, 1, 0, 3, 1, 1],\n",
              "        [6, 0, 3, 5, 1, 0, 3, 1, 1],\n",
              "        [6, 0, 3, 5, 1, 0, 3, 1, 1],\n",
              "        [6, 0, 3, 5, 1, 0, 3, 1, 1],\n",
              "        [6, 0, 4, 5, 1, 0, 4, 0, 1],\n",
              "        [8, 0, 2, 5, 1, 0, 4, 0, 0],\n",
              "        [6, 0, 4, 5, 1, 0, 4, 0, 1],\n",
              "        [8, 0, 2, 5, 1, 0, 4, 0, 0],\n",
              "        [6, 0, 4, 5, 1, 0, 4, 0, 1],\n",
              "        [8, 0, 2, 5, 1, 0, 4, 0, 0],\n",
              "        [6, 0, 4, 5, 1, 0, 4, 0, 1],\n",
              "        [8, 0, 2, 5, 1, 0, 4, 0, 0],\n",
              "        [6, 0, 4, 5, 1, 0, 4, 0, 1],\n",
              "        [8, 0, 2, 5, 1, 0, 4, 0, 0],\n",
              "        [6, 0, 4, 5, 1, 0, 4, 0, 1],\n",
              "        [8, 0, 2, 5, 1, 0, 4, 0, 0]])"
            ]
          },
          "metadata": {},
          "execution_count": 22
        }
      ]
    },
    {
      "cell_type": "code",
      "source": [
        "#Edge Index view\n",
        "data[0].edge_index.t()"
      ],
      "metadata": {
        "colab": {
          "base_uri": "https://localhost:8080/"
        },
        "id": "u3z96JWkxOOd",
        "outputId": "2de1969c-f513-48f7-e145-5cdfada25a67"
      },
      "execution_count": null,
      "outputs": [
        {
          "output_type": "execute_result",
          "data": {
            "text/plain": [
              "tensor([[ 0,  1],\n",
              "        [ 1,  0],\n",
              "        [ 1,  2],\n",
              "        [ 2,  1],\n",
              "        [ 2,  3],\n",
              "        [ 2, 30],\n",
              "        [ 3,  2],\n",
              "        [ 3,  4],\n",
              "        [ 4,  3],\n",
              "        [ 4,  5],\n",
              "        [ 4, 26],\n",
              "        [ 5,  4],\n",
              "        [ 5,  6],\n",
              "        [ 6,  5],\n",
              "        [ 6,  7],\n",
              "        [ 7,  6],\n",
              "        [ 7,  8],\n",
              "        [ 7, 24],\n",
              "        [ 8,  7],\n",
              "        [ 8,  9],\n",
              "        [ 9,  8],\n",
              "        [ 9, 10],\n",
              "        [ 9, 20],\n",
              "        [10,  9],\n",
              "        [10, 11],\n",
              "        [11, 10],\n",
              "        [11, 12],\n",
              "        [11, 14],\n",
              "        [12, 11],\n",
              "        [12, 13],\n",
              "        [13, 12],\n",
              "        [14, 11],\n",
              "        [14, 15],\n",
              "        [14, 19],\n",
              "        [15, 14],\n",
              "        [15, 16],\n",
              "        [16, 15],\n",
              "        [16, 17],\n",
              "        [17, 16],\n",
              "        [17, 18],\n",
              "        [18, 17],\n",
              "        [18, 19],\n",
              "        [19, 14],\n",
              "        [19, 18],\n",
              "        [20,  9],\n",
              "        [20, 21],\n",
              "        [20, 22],\n",
              "        [21, 20],\n",
              "        [22, 20],\n",
              "        [22, 23],\n",
              "        [22, 24],\n",
              "        [23, 22],\n",
              "        [24,  7],\n",
              "        [24, 22],\n",
              "        [24, 25],\n",
              "        [25, 24],\n",
              "        [26,  4],\n",
              "        [26, 27],\n",
              "        [26, 28],\n",
              "        [27, 26],\n",
              "        [28, 26],\n",
              "        [28, 29],\n",
              "        [28, 30],\n",
              "        [29, 28],\n",
              "        [30,  2],\n",
              "        [30, 28],\n",
              "        [30, 31],\n",
              "        [31, 30]])"
            ]
          },
          "metadata": {},
          "execution_count": 24
        }
      ]
    },
    {
      "cell_type": "code",
      "source": [
        "smiles = data[5].smiles\n",
        "representation = rep(smiles)\n",
        "representation\n"
      ],
      "metadata": {
        "colab": {
          "base_uri": "https://localhost:8080/",
          "height": 167
        },
        "id": "wVe72saRxiTU",
        "outputId": "f8a58dbc-6f7c-48ff-ff8a-d83bf33ef2c5"
      },
      "execution_count": null,
      "outputs": [
        {
          "output_type": "execute_result",
          "data": {
            "text/plain": [
              "<rdkit.Chem.rdchem.Mol at 0x7b2a3b1dd4d0>"
            ],
            "image/png": "[encoded data removed]"
          },
          "metadata": {},
          "execution_count": 40
        }
      ]
    },
    {
      "cell_type": "code",
      "source": [
        "from rdkit import Chem\n",
        "def rep(smiles):\n",
        "  representation = Chem.MolFromSmiles(smiles)\n",
        "  return representation\n",
        "\n"
      ],
      "metadata": {
        "id": "pcyw_qrnx0la"
      },
      "execution_count": null,
      "outputs": []
    },
    {
      "cell_type": "code",
      "source": [
        "#Graph Neural Network"
      ],
      "metadata": {
        "id": "o9VFyIqkyIQd"
      },
      "execution_count": null,
      "outputs": []
    },
    {
      "cell_type": "code",
      "source": [
        "import torch.nn as nn\n",
        "import torch.nn.functional as F\n",
        "from torch.nn import Linear\n",
        "from torch_geometric.nn import GATConv, GCNConv, TopKPooling, global_mean_pool\n",
        "from torch_geometric.nn  import global_mean_pool as gmean, global_max_pool as gmax"
      ],
      "metadata": {
        "id": "oW4DfKYo38Yv"
      },
      "execution_count": null,
      "outputs": []
    },
    {
      "cell_type": "code",
      "source": [
        "\n",
        "class GNN(nn.Module, hidden_layer):\n",
        "  def __init__(self):\n",
        "    super(GNN, self).__init__()\n",
        "    torch.manual_seed(42)\n",
        "\n",
        "    #GCN layers\n",
        "    #input layer\n",
        "    self.start_conv = GATConv(data.num_features, embedding_size)\n",
        "    self.conv1 = GATConv(embedding_size, embedding_size)\n",
        "    self.conv2 = GATConv(embedding_size, embedding_size)\n",
        "\n",
        "    #outout layer\n",
        "    self.output_layer = Linear(embedding_size*2, 1)\n",
        "\n",
        "  def forward(self, x, edge_index, batch_index):\n",
        "    hidden = self.start_conv(x, edge_index)\n",
        "    hidden = F.tanh(hidden)\n",
        "    hidden = self.conv1(hidden, edge_index)\n",
        "    hidden = F.tanh(hidden)\n",
        "    hidden = self.conv2(hidden, edge_index)\n",
        "    hidden = F.tanh(hidden)\n",
        "    # Global Pooling\n",
        "    hidden = torch.cat([gmean(hidden, batch_index), gmax(hidden, batch_index)], dim = 1)\n",
        "\n",
        "    out = self.output_layer(hidden)\n",
        "\n",
        "    return out, hidden\n",
        "\n",
        "Model =GNN()\n",
        "\n"
      ],
      "metadata": {
        "colab": {
          "base_uri": "https://localhost:8080/",
          "height": 218
        },
        "id": "UMlxogs54v5Q",
        "outputId": "4c739fb6-16e4-42b8-e4d5-4e515e59266b"
      },
      "execution_count": null,
      "outputs": [
        {
          "output_type": "error",
          "ename": "NameError",
          "evalue": "name 'hidden_layer' is not defined",
          "traceback": [
            "\u001b[0;31m---------------------------------------------------------------------------\u001b[0m",
            "\u001b[0;31mNameError\u001b[0m                                 Traceback (most recent call last)",
            "\u001b[0;32m<ipython-input-139-741ea0d2a2b1>\u001b[0m in \u001b[0;36m<cell line: 1>\u001b[0;34m()\u001b[0m\n\u001b[0;32m----> 1\u001b[0;31m \u001b[0;32mclass\u001b[0m \u001b[0mGNN\u001b[0m\u001b[0;34m(\u001b[0m\u001b[0mnn\u001b[0m\u001b[0;34m.\u001b[0m\u001b[0mModule\u001b[0m\u001b[0;34m,\u001b[0m \u001b[0mhidden_layer\u001b[0m\u001b[0;34m)\u001b[0m\u001b[0;34m:\u001b[0m\u001b[0;34m\u001b[0m\u001b[0;34m\u001b[0m\u001b[0m\n\u001b[0m\u001b[1;32m      2\u001b[0m   \u001b[0;32mdef\u001b[0m \u001b[0m__init__\u001b[0m\u001b[0;34m(\u001b[0m\u001b[0mself\u001b[0m\u001b[0;34m)\u001b[0m\u001b[0;34m:\u001b[0m\u001b[0;34m\u001b[0m\u001b[0;34m\u001b[0m\u001b[0m\n\u001b[1;32m      3\u001b[0m     \u001b[0msuper\u001b[0m\u001b[0;34m(\u001b[0m\u001b[0mGNN\u001b[0m\u001b[0;34m,\u001b[0m \u001b[0mself\u001b[0m\u001b[0;34m)\u001b[0m\u001b[0;34m.\u001b[0m\u001b[0m__init__\u001b[0m\u001b[0;34m(\u001b[0m\u001b[0;34m)\u001b[0m\u001b[0;34m\u001b[0m\u001b[0;34m\u001b[0m\u001b[0m\n\u001b[1;32m      4\u001b[0m     \u001b[0mtorch\u001b[0m\u001b[0;34m.\u001b[0m\u001b[0mmanual_seed\u001b[0m\u001b[0;34m(\u001b[0m\u001b[0;36m42\u001b[0m\u001b[0;34m)\u001b[0m\u001b[0;34m\u001b[0m\u001b[0;34m\u001b[0m\u001b[0m\n\u001b[1;32m      5\u001b[0m \u001b[0;34m\u001b[0m\u001b[0m\n",
            "\u001b[0;31mNameError\u001b[0m: name 'hidden_layer' is not defined"
          ]
        }
      ]
    },
    {
      "cell_type": "code",
      "source": [
        "# Model Traning GNN"
      ],
      "metadata": {
        "id": "flW1izhFCv_1"
      },
      "execution_count": null,
      "outputs": []
    },
    {
      "cell_type": "code",
      "source": [
        "from torch_geometric.data import DataLoader\n",
        "\n",
        "#RMS error\n",
        "loss_cal = torch.nn.MSELoss()\n",
        "optimizer = torch.optim.AdamW(Model.parameters(), lr = 0.0007)\n",
        "batch_size = 64\n",
        "\n",
        "#splitting test and train\n",
        "\n",
        "train_data = data[:int(len(data) * 0.8)]\n",
        "\n",
        "test_data = data[int(len(data) * 0.8):]\n",
        "\n",
        "train_loader = DataLoader(train_data, batch_size = batch_size, shuffle = True)\n",
        "\n",
        "test_loader = DataLoader(train_data, batch_size = batch_size, shuffle = True)\n",
        "\n",
        "def train_model(data):\n",
        "  for batch in train_loader:\n",
        "    optimizer.zero_grad()\n",
        "    pred_value, embedding = Model(batch.x.float(), batch.edge_index, batch.batch)\n",
        "    loss = loss_cal(pred_value, batch.y)\n",
        "\n",
        "    loss.backward()\n",
        "\n",
        "    optimizer.step()\n",
        "\n",
        "    return loss, embedding\n",
        "loss_list = []\n",
        "for epoch in range(2000):\n",
        "  loss_val, embed_vector = train_model(data)\n",
        "  loss_list.append(loss_val)\n",
        "  if epoch%100 == 0:\n",
        "    print(f\"Epoch {epoch} | train loss {loss_val}\")\n"
      ],
      "metadata": {
        "colab": {
          "base_uri": "https://localhost:8080/"
        },
        "id": "IL58RxMQB188",
        "outputId": "9a3a4ac3-7560-4b6b-8699-c02b82264434"
      },
      "execution_count": null,
      "outputs": [
        {
          "output_type": "stream",
          "name": "stderr",
          "text": [
            "/usr/local/lib/python3.10/dist-packages/torch_geometric/deprecation.py:26: UserWarning: 'data.DataLoader' is deprecated, use 'loader.DataLoader' instead\n",
            "  warnings.warn(out)\n"
          ]
        },
        {
          "output_type": "stream",
          "name": "stdout",
          "text": [
            "Epoch 0 | train loss 10.975129127502441\n",
            "Epoch 100 | train loss 4.159939289093018\n",
            "Epoch 200 | train loss 3.656836986541748\n",
            "Epoch 300 | train loss 5.205353260040283\n",
            "Epoch 400 | train loss 4.011425971984863\n",
            "Epoch 500 | train loss 1.8048956394195557\n",
            "Epoch 600 | train loss 1.7488162517547607\n",
            "Epoch 700 | train loss 1.2609633207321167\n",
            "Epoch 800 | train loss 1.0933011770248413\n",
            "Epoch 900 | train loss 1.17437744140625\n",
            "Epoch 1000 | train loss 0.9726675748825073\n",
            "Epoch 1100 | train loss 0.8173293471336365\n",
            "Epoch 1200 | train loss 1.0639320611953735\n",
            "Epoch 1300 | train loss 1.0364906787872314\n",
            "Epoch 1400 | train loss 0.9802409410476685\n",
            "Epoch 1500 | train loss 0.8110319375991821\n",
            "Epoch 1600 | train loss 0.7591480612754822\n",
            "Epoch 1700 | train loss 0.8055458068847656\n",
            "Epoch 1800 | train loss 1.0620307922363281\n",
            "Epoch 1900 | train loss 0.8174900412559509\n"
          ]
        }
      ]
    },
    {
      "cell_type": "code",
      "source": [
        "import seaborn as sns\n",
        "\n",
        "loss_value = [float(loss_value.cpu().detach().numpy()) for loss_value in loss_list]\n",
        "loss_index = [i for i,l in enumerate(loss_value)]\n",
        "\n",
        "print(loss_list)\n",
        "plt = sns.lineplot(loss_value)\n",
        "plt"
      ],
      "metadata": {
        "colab": {
          "base_uri": "https://localhost:8080/",
          "height": 486
        },
        "id": "YzekrVOOMDaC",
        "outputId": "802c1551-c4aa-4828-9d08-1fcc020fcb36"
      },
      "execution_count": null,
      "outputs": [
        {
          "output_type": "stream",
          "name": "stdout",
          "text": [
            "[tensor(10.9751, grad_fn=<MseLossBackward0>), tensor(11.0467, grad_fn=<MseLossBackward0>), tensor(10.8237, grad_fn=<MseLossBackward0>), tensor(10.2460, grad_fn=<MseLossBackward0>), tensor(8.2571, grad_fn=<MseLossBackward0>), tensor(8.7251, grad_fn=<MseLossBackward0>), tensor(7.5545, grad_fn=<MseLossBackward0>), tensor(10.6305, grad_fn=<MseLossBackward0>), tensor(8.9921, grad_fn=<MseLossBackward0>), tensor(6.4347, grad_fn=<MseLossBackward0>), tensor(7.2854, grad_fn=<MseLossBackward0>), tensor(6.2723, grad_fn=<MseLossBackward0>), tensor(5.1142, grad_fn=<MseLossBackward0>), tensor(4.4493, grad_fn=<MseLossBackward0>), tensor(6.4876, grad_fn=<MseLossBackward0>), tensor(5.7918, grad_fn=<MseLossBackward0>), tensor(4.8282, grad_fn=<MseLossBackward0>), tensor(3.0335, grad_fn=<MseLossBackward0>), tensor(4.0497, grad_fn=<MseLossBackward0>), tensor(5.0751, grad_fn=<MseLossBackward0>), tensor(3.7591, grad_fn=<MseLossBackward0>), tensor(4.2664, grad_fn=<MseLossBackward0>), tensor(6.2652, grad_fn=<MseLossBackward0>), tensor(5.3142, grad_fn=<MseLossBackward0>), tensor(4.8656, grad_fn=<MseLossBackward0>), tensor(4.9348, grad_fn=<MseLossBackward0>), tensor(3.9221, grad_fn=<MseLossBackward0>), tensor(4.6692, grad_fn=<MseLossBackward0>), tensor(4.1424, grad_fn=<MseLossBackward0>), tensor(4.2272, grad_fn=<MseLossBackward0>), tensor(4.8343, grad_fn=<MseLossBackward0>), tensor(4.4225, grad_fn=<MseLossBackward0>), tensor(4.4638, grad_fn=<MseLossBackward0>), tensor(3.0421, grad_fn=<MseLossBackward0>), tensor(4.2006, grad_fn=<MseLossBackward0>), tensor(5.1025, grad_fn=<MseLossBackward0>), tensor(5.0526, grad_fn=<MseLossBackward0>), tensor(3.6059, grad_fn=<MseLossBackward0>), tensor(5.1858, grad_fn=<MseLossBackward0>), tensor(4.9568, grad_fn=<MseLossBackward0>), tensor(4.5798, grad_fn=<MseLossBackward0>), tensor(4.3021, grad_fn=<MseLossBackward0>), tensor(3.3035, grad_fn=<MseLossBackward0>), tensor(3.6301, grad_fn=<MseLossBackward0>), tensor(3.7954, grad_fn=<MseLossBackward0>), tensor(5.5400, grad_fn=<MseLossBackward0>), tensor(5.4636, grad_fn=<MseLossBackward0>), tensor(4.6347, grad_fn=<MseLossBackward0>), tensor(4.8204, grad_fn=<MseLossBackward0>), tensor(4.2602, grad_fn=<MseLossBackward0>), tensor(4.5665, grad_fn=<MseLossBackward0>), tensor(3.7969, grad_fn=<MseLossBackward0>), tensor(3.4380, grad_fn=<MseLossBackward0>), tensor(5.0070, grad_fn=<MseLossBackward0>), tensor(4.0890, grad_fn=<MseLossBackward0>), tensor(4.7723, grad_fn=<MseLossBackward0>), tensor(4.1389, grad_fn=<MseLossBackward0>), tensor(4.1189, grad_fn=<MseLossBackward0>), tensor(5.0272, grad_fn=<MseLossBackward0>), tensor(4.1308, grad_fn=<MseLossBackward0>), tensor(4.4442, grad_fn=<MseLossBackward0>), tensor(5.3211, grad_fn=<MseLossBackward0>), tensor(4.4973, grad_fn=<MseLossBackward0>), tensor(4.1438, grad_fn=<MseLossBackward0>), tensor(3.0508, grad_fn=<MseLossBackward0>), tensor(4.3311, grad_fn=<MseLossBackward0>), tensor(5.4554, grad_fn=<MseLossBackward0>), tensor(4.3686, grad_fn=<MseLossBackward0>), tensor(3.9246, grad_fn=<MseLossBackward0>), tensor(4.1244, grad_fn=<MseLossBackward0>), tensor(4.9905, grad_fn=<MseLossBackward0>), tensor(4.6601, grad_fn=<MseLossBackward0>), tensor(4.6542, grad_fn=<MseLossBackward0>), tensor(4.4019, grad_fn=<MseLossBackward0>), tensor(3.3935, grad_fn=<MseLossBackward0>), tensor(4.0818, grad_fn=<MseLossBackward0>), tensor(4.7274, grad_fn=<MseLossBackward0>), tensor(3.2792, grad_fn=<MseLossBackward0>), tensor(4.2192, grad_fn=<MseLossBackward0>), tensor(3.6408, grad_fn=<MseLossBackward0>), tensor(3.1976, grad_fn=<MseLossBackward0>), tensor(4.2033, grad_fn=<MseLossBackward0>), tensor(3.3026, grad_fn=<MseLossBackward0>), tensor(4.4800, grad_fn=<MseLossBackward0>), tensor(4.7185, grad_fn=<MseLossBackward0>), tensor(4.7686, grad_fn=<MseLossBackward0>), tensor(4.1446, grad_fn=<MseLossBackward0>), tensor(4.6460, grad_fn=<MseLossBackward0>), tensor(3.9687, grad_fn=<MseLossBackward0>), tensor(3.9162, grad_fn=<MseLossBackward0>), tensor(5.4787, grad_fn=<MseLossBackward0>), tensor(5.0024, grad_fn=<MseLossBackward0>), tensor(5.2079, grad_fn=<MseLossBackward0>), tensor(3.3387, grad_fn=<MseLossBackward0>), tensor(4.8218, grad_fn=<MseLossBackward0>), tensor(4.2006, grad_fn=<MseLossBackward0>), tensor(4.1001, grad_fn=<MseLossBackward0>), tensor(4.0988, grad_fn=<MseLossBackward0>), tensor(4.4007, grad_fn=<MseLossBackward0>), tensor(4.0192, grad_fn=<MseLossBackward0>), tensor(4.1599, grad_fn=<MseLossBackward0>), tensor(4.1925, grad_fn=<MseLossBackward0>), tensor(4.7710, grad_fn=<MseLossBackward0>), tensor(3.7844, grad_fn=<MseLossBackward0>), tensor(4.1748, grad_fn=<MseLossBackward0>), tensor(3.9394, grad_fn=<MseLossBackward0>), tensor(6.9209, grad_fn=<MseLossBackward0>), tensor(4.5004, grad_fn=<MseLossBackward0>), tensor(3.8197, grad_fn=<MseLossBackward0>), tensor(5.7536, grad_fn=<MseLossBackward0>), tensor(4.1453, grad_fn=<MseLossBackward0>), tensor(5.6432, grad_fn=<MseLossBackward0>), tensor(4.6413, grad_fn=<MseLossBackward0>), tensor(3.5340, grad_fn=<MseLossBackward0>), tensor(4.2246, grad_fn=<MseLossBackward0>), tensor(4.9727, grad_fn=<MseLossBackward0>), tensor(6.0123, grad_fn=<MseLossBackward0>), tensor(3.9800, grad_fn=<MseLossBackward0>), tensor(5.4775, grad_fn=<MseLossBackward0>), tensor(4.9564, grad_fn=<MseLossBackward0>), tensor(3.8058, grad_fn=<MseLossBackward0>), tensor(4.7710, grad_fn=<MseLossBackward0>), tensor(3.4456, grad_fn=<MseLossBackward0>), tensor(4.2270, grad_fn=<MseLossBackward0>), tensor(3.3678, grad_fn=<MseLossBackward0>), tensor(4.6210, grad_fn=<MseLossBackward0>), tensor(3.4558, grad_fn=<MseLossBackward0>), tensor(3.5190, grad_fn=<MseLossBackward0>), tensor(5.8169, grad_fn=<MseLossBackward0>), tensor(4.6390, grad_fn=<MseLossBackward0>), tensor(4.0227, grad_fn=<MseLossBackward0>), tensor(3.9820, grad_fn=<MseLossBackward0>), tensor(4.1473, grad_fn=<MseLossBackward0>), tensor(3.7211, grad_fn=<MseLossBackward0>), tensor(5.4662, grad_fn=<MseLossBackward0>), tensor(4.6155, grad_fn=<MseLossBackward0>), tensor(6.3418, grad_fn=<MseLossBackward0>), tensor(4.0724, grad_fn=<MseLossBackward0>), tensor(2.6949, grad_fn=<MseLossBackward0>), tensor(3.5352, grad_fn=<MseLossBackward0>), tensor(4.9225, grad_fn=<MseLossBackward0>), tensor(4.7244, grad_fn=<MseLossBackward0>), tensor(4.6444, grad_fn=<MseLossBackward0>), tensor(3.8062, grad_fn=<MseLossBackward0>), tensor(3.2673, grad_fn=<MseLossBackward0>), tensor(4.3557, grad_fn=<MseLossBackward0>), tensor(4.4259, grad_fn=<MseLossBackward0>), tensor(3.1002, grad_fn=<MseLossBackward0>), tensor(3.8004, grad_fn=<MseLossBackward0>), tensor(4.0757, grad_fn=<MseLossBackward0>), tensor(6.2471, grad_fn=<MseLossBackward0>), tensor(3.8122, grad_fn=<MseLossBackward0>), tensor(5.0612, grad_fn=<MseLossBackward0>), tensor(3.7896, grad_fn=<MseLossBackward0>), tensor(4.7581, grad_fn=<MseLossBackward0>), tensor(7.1995, grad_fn=<MseLossBackward0>), tensor(5.0992, grad_fn=<MseLossBackward0>), tensor(3.8861, grad_fn=<MseLossBackward0>), tensor(4.6586, grad_fn=<MseLossBackward0>), tensor(3.6448, grad_fn=<MseLossBackward0>), tensor(3.3739, grad_fn=<MseLossBackward0>), tensor(4.1079, grad_fn=<MseLossBackward0>), tensor(3.4709, grad_fn=<MseLossBackward0>), tensor(4.4174, grad_fn=<MseLossBackward0>), tensor(5.0957, grad_fn=<MseLossBackward0>), tensor(2.9036, grad_fn=<MseLossBackward0>), tensor(4.0884, grad_fn=<MseLossBackward0>), tensor(5.4070, grad_fn=<MseLossBackward0>), tensor(4.3516, grad_fn=<MseLossBackward0>), tensor(4.8051, grad_fn=<MseLossBackward0>), tensor(2.5668, grad_fn=<MseLossBackward0>), tensor(3.6883, grad_fn=<MseLossBackward0>), tensor(4.3250, grad_fn=<MseLossBackward0>), tensor(3.5421, grad_fn=<MseLossBackward0>), tensor(3.6330, grad_fn=<MseLossBackward0>), tensor(3.8751, grad_fn=<MseLossBackward0>), tensor(3.0970, grad_fn=<MseLossBackward0>), tensor(4.9770, grad_fn=<MseLossBackward0>), tensor(3.6289, grad_fn=<MseLossBackward0>), tensor(5.2804, grad_fn=<MseLossBackward0>), tensor(3.2501, grad_fn=<MseLossBackward0>), tensor(3.2556, grad_fn=<MseLossBackward0>), tensor(2.9417, grad_fn=<MseLossBackward0>), tensor(4.0115, grad_fn=<MseLossBackward0>), tensor(3.5343, grad_fn=<MseLossBackward0>), tensor(3.2278, grad_fn=<MseLossBackward0>), tensor(4.5295, grad_fn=<MseLossBackward0>), tensor(4.0718, grad_fn=<MseLossBackward0>), tensor(4.4285, grad_fn=<MseLossBackward0>), tensor(4.2388, grad_fn=<MseLossBackward0>), tensor(3.2527, grad_fn=<MseLossBackward0>), tensor(4.1922, grad_fn=<MseLossBackward0>), tensor(3.6295, grad_fn=<MseLossBackward0>), tensor(4.0331, grad_fn=<MseLossBackward0>), tensor(3.2269, grad_fn=<MseLossBackward0>), tensor(4.7779, grad_fn=<MseLossBackward0>), tensor(2.9008, grad_fn=<MseLossBackward0>), tensor(3.4834, grad_fn=<MseLossBackward0>), tensor(3.9821, grad_fn=<MseLossBackward0>), tensor(2.8844, grad_fn=<MseLossBackward0>), tensor(3.6568, grad_fn=<MseLossBackward0>), tensor(3.3689, grad_fn=<MseLossBackward0>), tensor(3.2097, grad_fn=<MseLossBackward0>), tensor(5.5633, grad_fn=<MseLossBackward0>), tensor(3.7944, grad_fn=<MseLossBackward0>), tensor(4.4787, grad_fn=<MseLossBackward0>), tensor(3.2456, grad_fn=<MseLossBackward0>), tensor(3.8345, grad_fn=<MseLossBackward0>), tensor(2.9973, grad_fn=<MseLossBackward0>), tensor(4.3561, grad_fn=<MseLossBackward0>), tensor(2.5920, grad_fn=<MseLossBackward0>), tensor(4.2972, grad_fn=<MseLossBackward0>), tensor(4.3892, grad_fn=<MseLossBackward0>), tensor(2.6570, grad_fn=<MseLossBackward0>), tensor(4.8557, grad_fn=<MseLossBackward0>), tensor(3.2106, grad_fn=<MseLossBackward0>), tensor(3.8841, grad_fn=<MseLossBackward0>), tensor(3.3124, grad_fn=<MseLossBackward0>), tensor(5.1020, grad_fn=<MseLossBackward0>), tensor(3.6011, grad_fn=<MseLossBackward0>), tensor(3.5756, grad_fn=<MseLossBackward0>), tensor(2.6766, grad_fn=<MseLossBackward0>), tensor(3.9458, grad_fn=<MseLossBackward0>), tensor(3.8514, grad_fn=<MseLossBackward0>), tensor(2.9465, grad_fn=<MseLossBackward0>), tensor(3.2725, grad_fn=<MseLossBackward0>), tensor(4.4055, grad_fn=<MseLossBackward0>), tensor(3.9462, grad_fn=<MseLossBackward0>), tensor(3.4297, grad_fn=<MseLossBackward0>), tensor(4.0557, grad_fn=<MseLossBackward0>), tensor(3.8988, grad_fn=<MseLossBackward0>), tensor(4.6622, grad_fn=<MseLossBackward0>), tensor(4.3398, grad_fn=<MseLossBackward0>), tensor(3.9853, grad_fn=<MseLossBackward0>), tensor(3.6703, grad_fn=<MseLossBackward0>), tensor(3.9861, grad_fn=<MseLossBackward0>), tensor(3.8018, grad_fn=<MseLossBackward0>), tensor(4.2361, grad_fn=<MseLossBackward0>), tensor(3.9517, grad_fn=<MseLossBackward0>), tensor(4.2652, grad_fn=<MseLossBackward0>), tensor(3.7015, grad_fn=<MseLossBackward0>), tensor(3.7547, grad_fn=<MseLossBackward0>), tensor(3.3625, grad_fn=<MseLossBackward0>), tensor(4.9606, grad_fn=<MseLossBackward0>), tensor(3.9431, grad_fn=<MseLossBackward0>), tensor(3.9798, grad_fn=<MseLossBackward0>), tensor(3.6451, grad_fn=<MseLossBackward0>), tensor(3.5720, grad_fn=<MseLossBackward0>), tensor(3.0819, grad_fn=<MseLossBackward0>), tensor(3.5161, grad_fn=<MseLossBackward0>), tensor(5.9311, grad_fn=<MseLossBackward0>), tensor(3.4968, grad_fn=<MseLossBackward0>), tensor(3.1334, grad_fn=<MseLossBackward0>), tensor(3.5183, grad_fn=<MseLossBackward0>), tensor(3.1665, grad_fn=<MseLossBackward0>), tensor(3.9965, grad_fn=<MseLossBackward0>), tensor(3.0816, grad_fn=<MseLossBackward0>), tensor(3.3346, grad_fn=<MseLossBackward0>), tensor(2.6189, grad_fn=<MseLossBackward0>), tensor(5.8292, grad_fn=<MseLossBackward0>), tensor(4.2750, grad_fn=<MseLossBackward0>), tensor(4.2906, grad_fn=<MseLossBackward0>), tensor(2.7082, grad_fn=<MseLossBackward0>), tensor(3.2279, grad_fn=<MseLossBackward0>), tensor(3.9556, grad_fn=<MseLossBackward0>), tensor(2.3122, grad_fn=<MseLossBackward0>), tensor(3.2550, grad_fn=<MseLossBackward0>), tensor(4.3893, grad_fn=<MseLossBackward0>), tensor(2.9009, grad_fn=<MseLossBackward0>), tensor(3.4617, grad_fn=<MseLossBackward0>), tensor(4.4555, grad_fn=<MseLossBackward0>), tensor(3.8784, grad_fn=<MseLossBackward0>), tensor(3.2332, grad_fn=<MseLossBackward0>), tensor(2.6795, grad_fn=<MseLossBackward0>), tensor(3.5833, grad_fn=<MseLossBackward0>), tensor(4.2232, grad_fn=<MseLossBackward0>), tensor(4.4883, grad_fn=<MseLossBackward0>), tensor(3.5373, grad_fn=<MseLossBackward0>), tensor(3.2313, grad_fn=<MseLossBackward0>), tensor(3.7173, grad_fn=<MseLossBackward0>), tensor(4.4070, grad_fn=<MseLossBackward0>), tensor(4.2154, grad_fn=<MseLossBackward0>), tensor(3.2980, grad_fn=<MseLossBackward0>), tensor(2.8880, grad_fn=<MseLossBackward0>), tensor(4.4747, grad_fn=<MseLossBackward0>), tensor(4.0598, grad_fn=<MseLossBackward0>), tensor(4.1244, grad_fn=<MseLossBackward0>), tensor(2.9780, grad_fn=<MseLossBackward0>), tensor(3.0553, grad_fn=<MseLossBackward0>), tensor(4.2630, grad_fn=<MseLossBackward0>), tensor(2.9044, grad_fn=<MseLossBackward0>), tensor(2.8250, grad_fn=<MseLossBackward0>), tensor(3.3658, grad_fn=<MseLossBackward0>), tensor(3.3969, grad_fn=<MseLossBackward0>), tensor(3.9469, grad_fn=<MseLossBackward0>), tensor(3.1255, grad_fn=<MseLossBackward0>), tensor(3.3439, grad_fn=<MseLossBackward0>), tensor(3.1740, grad_fn=<MseLossBackward0>), tensor(5.3586, grad_fn=<MseLossBackward0>), tensor(2.6060, grad_fn=<MseLossBackward0>), tensor(5.2054, grad_fn=<MseLossBackward0>), tensor(3.7001, grad_fn=<MseLossBackward0>), tensor(4.6144, grad_fn=<MseLossBackward0>), tensor(2.6184, grad_fn=<MseLossBackward0>), tensor(3.3081, grad_fn=<MseLossBackward0>), tensor(4.1786, grad_fn=<MseLossBackward0>), tensor(2.7361, grad_fn=<MseLossBackward0>), tensor(3.3619, grad_fn=<MseLossBackward0>), tensor(2.3073, grad_fn=<MseLossBackward0>), tensor(3.4530, grad_fn=<MseLossBackward0>), tensor(3.0692, grad_fn=<MseLossBackward0>), tensor(2.7472, grad_fn=<MseLossBackward0>), tensor(2.8747, grad_fn=<MseLossBackward0>), tensor(3.3644, grad_fn=<MseLossBackward0>), tensor(4.3426, grad_fn=<MseLossBackward0>), tensor(3.2596, grad_fn=<MseLossBackward0>), tensor(3.5269, grad_fn=<MseLossBackward0>), tensor(4.5825, grad_fn=<MseLossBackward0>), tensor(4.5038, grad_fn=<MseLossBackward0>), tensor(3.1580, grad_fn=<MseLossBackward0>), tensor(2.8771, grad_fn=<MseLossBackward0>), tensor(2.9016, grad_fn=<MseLossBackward0>), tensor(2.4065, grad_fn=<MseLossBackward0>), tensor(2.9922, grad_fn=<MseLossBackward0>), tensor(3.7009, grad_fn=<MseLossBackward0>), tensor(2.1991, grad_fn=<MseLossBackward0>), tensor(3.0232, grad_fn=<MseLossBackward0>), tensor(4.0658, grad_fn=<MseLossBackward0>), tensor(2.3839, grad_fn=<MseLossBackward0>), tensor(4.0903, grad_fn=<MseLossBackward0>), tensor(2.7491, grad_fn=<MseLossBackward0>), tensor(2.6422, grad_fn=<MseLossBackward0>), tensor(2.5317, grad_fn=<MseLossBackward0>), tensor(2.3064, grad_fn=<MseLossBackward0>), tensor(3.6316, grad_fn=<MseLossBackward0>), tensor(3.5582, grad_fn=<MseLossBackward0>), tensor(2.4864, grad_fn=<MseLossBackward0>), tensor(2.9053, grad_fn=<MseLossBackward0>), tensor(3.9259, grad_fn=<MseLossBackward0>), tensor(3.4703, grad_fn=<MseLossBackward0>), tensor(2.1124, grad_fn=<MseLossBackward0>), tensor(3.3161, grad_fn=<MseLossBackward0>), tensor(4.4381, grad_fn=<MseLossBackward0>), tensor(3.8501, grad_fn=<MseLossBackward0>), tensor(3.4687, grad_fn=<MseLossBackward0>), tensor(2.6687, grad_fn=<MseLossBackward0>), tensor(2.4728, grad_fn=<MseLossBackward0>), tensor(2.6447, grad_fn=<MseLossBackward0>), tensor(2.8019, grad_fn=<MseLossBackward0>), tensor(3.1165, grad_fn=<MseLossBackward0>), tensor(3.9474, grad_fn=<MseLossBackward0>), tensor(2.9802, grad_fn=<MseLossBackward0>), tensor(4.0205, grad_fn=<MseLossBackward0>), tensor(2.8862, grad_fn=<MseLossBackward0>), tensor(3.0587, grad_fn=<MseLossBackward0>), tensor(3.8360, grad_fn=<MseLossBackward0>), tensor(2.5549, grad_fn=<MseLossBackward0>), tensor(2.6660, grad_fn=<MseLossBackward0>), tensor(2.8797, grad_fn=<MseLossBackward0>), tensor(3.3752, grad_fn=<MseLossBackward0>), tensor(4.2621, grad_fn=<MseLossBackward0>), tensor(3.2149, grad_fn=<MseLossBackward0>), tensor(2.9010, grad_fn=<MseLossBackward0>), tensor(3.0005, grad_fn=<MseLossBackward0>), tensor(2.7875, grad_fn=<MseLossBackward0>), tensor(2.8184, grad_fn=<MseLossBackward0>), tensor(2.7805, grad_fn=<MseLossBackward0>), tensor(3.2646, grad_fn=<MseLossBackward0>), tensor(2.7017, grad_fn=<MseLossBackward0>), tensor(2.0737, grad_fn=<MseLossBackward0>), tensor(3.0400, grad_fn=<MseLossBackward0>), tensor(4.2194, grad_fn=<MseLossBackward0>), tensor(3.0242, grad_fn=<MseLossBackward0>), tensor(2.1977, grad_fn=<MseLossBackward0>), tensor(2.6592, grad_fn=<MseLossBackward0>), tensor(3.6279, grad_fn=<MseLossBackward0>), tensor(3.3342, grad_fn=<MseLossBackward0>), tensor(3.8163, grad_fn=<MseLossBackward0>), tensor(3.1460, grad_fn=<MseLossBackward0>), tensor(3.4186, grad_fn=<MseLossBackward0>), tensor(2.6397, grad_fn=<MseLossBackward0>), tensor(2.8671, grad_fn=<MseLossBackward0>), tensor(2.7419, grad_fn=<MseLossBackward0>), tensor(2.2003, grad_fn=<MseLossBackward0>), tensor(2.5579, grad_fn=<MseLossBackward0>), tensor(3.2702, grad_fn=<MseLossBackward0>), tensor(2.7053, grad_fn=<MseLossBackward0>), tensor(2.7149, grad_fn=<MseLossBackward0>), tensor(3.3324, grad_fn=<MseLossBackward0>), tensor(2.3404, grad_fn=<MseLossBackward0>), tensor(2.7258, grad_fn=<MseLossBackward0>), tensor(1.9206, grad_fn=<MseLossBackward0>), tensor(2.0425, grad_fn=<MseLossBackward0>), tensor(2.9842, grad_fn=<MseLossBackward0>), tensor(3.0038, grad_fn=<MseLossBackward0>), tensor(2.9248, grad_fn=<MseLossBackward0>), tensor(3.0803, grad_fn=<MseLossBackward0>), tensor(2.1368, grad_fn=<MseLossBackward0>), tensor(2.5741, grad_fn=<MseLossBackward0>), tensor(3.7082, grad_fn=<MseLossBackward0>), tensor(4.0114, grad_fn=<MseLossBackward0>), tensor(2.5159, grad_fn=<MseLossBackward0>), tensor(2.6019, grad_fn=<MseLossBackward0>), tensor(2.8057, grad_fn=<MseLossBackward0>), tensor(2.9489, grad_fn=<MseLossBackward0>), tensor(3.4023, grad_fn=<MseLossBackward0>), tensor(2.8272, grad_fn=<MseLossBackward0>), tensor(2.6911, grad_fn=<MseLossBackward0>), tensor(1.9857, grad_fn=<MseLossBackward0>), tensor(2.2655, grad_fn=<MseLossBackward0>), tensor(2.5042, grad_fn=<MseLossBackward0>), tensor(2.9648, grad_fn=<MseLossBackward0>), tensor(1.5631, grad_fn=<MseLossBackward0>), tensor(1.8152, grad_fn=<MseLossBackward0>), tensor(3.3994, grad_fn=<MseLossBackward0>), tensor(2.3708, grad_fn=<MseLossBackward0>), tensor(2.3762, grad_fn=<MseLossBackward0>), tensor(3.0185, grad_fn=<MseLossBackward0>), tensor(1.9521, grad_fn=<MseLossBackward0>), tensor(3.5119, grad_fn=<MseLossBackward0>), tensor(2.3783, grad_fn=<MseLossBackward0>), tensor(3.1041, grad_fn=<MseLossBackward0>), tensor(3.0570, grad_fn=<MseLossBackward0>), tensor(2.5249, grad_fn=<MseLossBackward0>), tensor(3.1999, grad_fn=<MseLossBackward0>), tensor(1.9418, grad_fn=<MseLossBackward0>), tensor(3.0759, grad_fn=<MseLossBackward0>), tensor(2.7266, grad_fn=<MseLossBackward0>), tensor(3.1380, grad_fn=<MseLossBackward0>), tensor(2.8003, grad_fn=<MseLossBackward0>), tensor(2.8801, grad_fn=<MseLossBackward0>), tensor(2.4469, grad_fn=<MseLossBackward0>), tensor(3.2613, grad_fn=<MseLossBackward0>), tensor(3.0974, grad_fn=<MseLossBackward0>), tensor(3.2793, grad_fn=<MseLossBackward0>), tensor(3.2539, grad_fn=<MseLossBackward0>), tensor(2.8628, grad_fn=<MseLossBackward0>), tensor(2.3920, grad_fn=<MseLossBackward0>), tensor(2.2902, grad_fn=<MseLossBackward0>), tensor(2.6478, grad_fn=<MseLossBackward0>), tensor(2.4359, grad_fn=<MseLossBackward0>), tensor(1.8327, grad_fn=<MseLossBackward0>), tensor(2.8182, grad_fn=<MseLossBackward0>), tensor(2.3427, grad_fn=<MseLossBackward0>), tensor(3.0561, grad_fn=<MseLossBackward0>), tensor(2.9495, grad_fn=<MseLossBackward0>), tensor(3.1221, grad_fn=<MseLossBackward0>), tensor(2.6303, grad_fn=<MseLossBackward0>), tensor(2.1266, grad_fn=<MseLossBackward0>), tensor(2.3259, grad_fn=<MseLossBackward0>), tensor(2.6650, grad_fn=<MseLossBackward0>), tensor(3.3504, grad_fn=<MseLossBackward0>), tensor(2.4320, grad_fn=<MseLossBackward0>), tensor(2.1376, grad_fn=<MseLossBackward0>), tensor(2.6575, grad_fn=<MseLossBackward0>), tensor(2.5231, grad_fn=<MseLossBackward0>), tensor(2.2491, grad_fn=<MseLossBackward0>), tensor(2.8060, grad_fn=<MseLossBackward0>), tensor(1.9413, grad_fn=<MseLossBackward0>), tensor(1.9579, grad_fn=<MseLossBackward0>), tensor(2.6480, grad_fn=<MseLossBackward0>), tensor(2.5431, grad_fn=<MseLossBackward0>), tensor(3.0866, grad_fn=<MseLossBackward0>), tensor(1.8317, grad_fn=<MseLossBackward0>), tensor(3.2841, grad_fn=<MseLossBackward0>), tensor(3.3339, grad_fn=<MseLossBackward0>), tensor(2.8604, grad_fn=<MseLossBackward0>), tensor(2.5404, grad_fn=<MseLossBackward0>), tensor(1.9225, grad_fn=<MseLossBackward0>), tensor(1.7241, grad_fn=<MseLossBackward0>), tensor(3.5776, grad_fn=<MseLossBackward0>), tensor(2.2717, grad_fn=<MseLossBackward0>), tensor(2.9255, grad_fn=<MseLossBackward0>), tensor(2.7166, grad_fn=<MseLossBackward0>), tensor(2.3931, grad_fn=<MseLossBackward0>), tensor(2.4331, grad_fn=<MseLossBackward0>), tensor(2.6002, grad_fn=<MseLossBackward0>), tensor(3.7876, grad_fn=<MseLossBackward0>), tensor(2.2180, grad_fn=<MseLossBackward0>), tensor(1.9789, grad_fn=<MseLossBackward0>), tensor(2.7638, grad_fn=<MseLossBackward0>), tensor(3.3619, grad_fn=<MseLossBackward0>), tensor(2.1678, grad_fn=<MseLossBackward0>), tensor(1.7540, grad_fn=<MseLossBackward0>), tensor(1.7875, grad_fn=<MseLossBackward0>), tensor(3.2203, grad_fn=<MseLossBackward0>), tensor(2.5044, grad_fn=<MseLossBackward0>), tensor(2.5421, grad_fn=<MseLossBackward0>), tensor(2.3063, grad_fn=<MseLossBackward0>), tensor(2.9047, grad_fn=<MseLossBackward0>), tensor(3.4057, grad_fn=<MseLossBackward0>), tensor(2.4117, grad_fn=<MseLossBackward0>), tensor(1.8105, grad_fn=<MseLossBackward0>), tensor(2.6926, grad_fn=<MseLossBackward0>), tensor(2.3531, grad_fn=<MseLossBackward0>), tensor(1.5966, grad_fn=<MseLossBackward0>), tensor(1.9708, grad_fn=<MseLossBackward0>), tensor(1.5524, grad_fn=<MseLossBackward0>), tensor(2.3224, grad_fn=<MseLossBackward0>), tensor(2.6099, grad_fn=<MseLossBackward0>), tensor(1.8049, grad_fn=<MseLossBackward0>), tensor(1.7596, grad_fn=<MseLossBackward0>), tensor(1.7735, grad_fn=<MseLossBackward0>), tensor(2.3813, grad_fn=<MseLossBackward0>), tensor(3.2838, grad_fn=<MseLossBackward0>), tensor(2.2449, grad_fn=<MseLossBackward0>), tensor(2.6687, grad_fn=<MseLossBackward0>), tensor(2.5623, grad_fn=<MseLossBackward0>), tensor(2.2296, grad_fn=<MseLossBackward0>), tensor(2.4847, grad_fn=<MseLossBackward0>), tensor(1.9322, grad_fn=<MseLossBackward0>), tensor(2.0466, grad_fn=<MseLossBackward0>), tensor(1.9602, grad_fn=<MseLossBackward0>), tensor(2.0227, grad_fn=<MseLossBackward0>), tensor(2.1438, grad_fn=<MseLossBackward0>), tensor(1.5043, grad_fn=<MseLossBackward0>), tensor(3.2881, grad_fn=<MseLossBackward0>), tensor(2.5873, grad_fn=<MseLossBackward0>), tensor(2.5362, grad_fn=<MseLossBackward0>), tensor(2.1072, grad_fn=<MseLossBackward0>), tensor(1.7360, grad_fn=<MseLossBackward0>), tensor(2.4508, grad_fn=<MseLossBackward0>), tensor(2.1747, grad_fn=<MseLossBackward0>), tensor(2.1087, grad_fn=<MseLossBackward0>), tensor(1.7375, grad_fn=<MseLossBackward0>), tensor(1.9397, grad_fn=<MseLossBackward0>), tensor(2.5898, grad_fn=<MseLossBackward0>), tensor(2.3889, grad_fn=<MseLossBackward0>), tensor(1.7746, grad_fn=<MseLossBackward0>), tensor(1.8503, grad_fn=<MseLossBackward0>), tensor(1.8199, grad_fn=<MseLossBackward0>), tensor(1.1502, grad_fn=<MseLossBackward0>), tensor(3.4408, grad_fn=<MseLossBackward0>), tensor(2.2272, grad_fn=<MseLossBackward0>), tensor(2.4505, grad_fn=<MseLossBackward0>), tensor(2.1287, grad_fn=<MseLossBackward0>), tensor(1.6003, grad_fn=<MseLossBackward0>), tensor(1.8466, grad_fn=<MseLossBackward0>), tensor(2.6256, grad_fn=<MseLossBackward0>), tensor(2.1708, grad_fn=<MseLossBackward0>), tensor(1.6144, grad_fn=<MseLossBackward0>), tensor(2.1694, grad_fn=<MseLossBackward0>), tensor(2.4066, grad_fn=<MseLossBackward0>), tensor(2.3070, grad_fn=<MseLossBackward0>), tensor(2.3350, grad_fn=<MseLossBackward0>), tensor(1.7195, grad_fn=<MseLossBackward0>), tensor(1.8318, grad_fn=<MseLossBackward0>), tensor(2.0869, grad_fn=<MseLossBackward0>), tensor(2.2217, grad_fn=<MseLossBackward0>), tensor(2.4392, grad_fn=<MseLossBackward0>), tensor(2.5552, grad_fn=<MseLossBackward0>), tensor(1.4769, grad_fn=<MseLossBackward0>), tensor(1.8285, grad_fn=<MseLossBackward0>), tensor(2.3603, grad_fn=<MseLossBackward0>), tensor(1.9349, grad_fn=<MseLossBackward0>), tensor(2.2736, grad_fn=<MseLossBackward0>), tensor(1.7328, grad_fn=<MseLossBackward0>), tensor(2.3001, grad_fn=<MseLossBackward0>), tensor(1.8879, grad_fn=<MseLossBackward0>), tensor(1.9661, grad_fn=<MseLossBackward0>), tensor(1.2748, grad_fn=<MseLossBackward0>), tensor(1.9943, grad_fn=<MseLossBackward0>), tensor(1.9535, grad_fn=<MseLossBackward0>), tensor(1.5354, grad_fn=<MseLossBackward0>), tensor(1.9574, grad_fn=<MseLossBackward0>), tensor(2.5543, grad_fn=<MseLossBackward0>), tensor(1.1860, grad_fn=<MseLossBackward0>), tensor(2.0932, grad_fn=<MseLossBackward0>), tensor(1.9139, grad_fn=<MseLossBackward0>), tensor(1.9699, grad_fn=<MseLossBackward0>), tensor(1.7076, grad_fn=<MseLossBackward0>), tensor(2.0008, grad_fn=<MseLossBackward0>), tensor(1.3485, grad_fn=<MseLossBackward0>), tensor(2.2436, grad_fn=<MseLossBackward0>), tensor(2.1553, grad_fn=<MseLossBackward0>), tensor(1.4948, grad_fn=<MseLossBackward0>), tensor(1.8959, grad_fn=<MseLossBackward0>), tensor(1.9094, grad_fn=<MseLossBackward0>), tensor(1.8510, grad_fn=<MseLossBackward0>), tensor(1.7443, grad_fn=<MseLossBackward0>), tensor(2.1611, grad_fn=<MseLossBackward0>), tensor(1.7290, grad_fn=<MseLossBackward0>), tensor(1.5711, grad_fn=<MseLossBackward0>), tensor(1.7524, grad_fn=<MseLossBackward0>), tensor(1.4190, grad_fn=<MseLossBackward0>), tensor(1.6343, grad_fn=<MseLossBackward0>), tensor(1.8168, grad_fn=<MseLossBackward0>), tensor(1.8657, grad_fn=<MseLossBackward0>), tensor(1.7415, grad_fn=<MseLossBackward0>), tensor(1.7113, grad_fn=<MseLossBackward0>), tensor(1.7973, grad_fn=<MseLossBackward0>), tensor(1.5046, grad_fn=<MseLossBackward0>), tensor(2.0518, grad_fn=<MseLossBackward0>), tensor(1.7247, grad_fn=<MseLossBackward0>), tensor(1.5415, grad_fn=<MseLossBackward0>), tensor(2.0376, grad_fn=<MseLossBackward0>), tensor(0.9877, grad_fn=<MseLossBackward0>), tensor(1.3759, grad_fn=<MseLossBackward0>), tensor(1.7116, grad_fn=<MseLossBackward0>), tensor(3.0240, grad_fn=<MseLossBackward0>), tensor(1.7488, grad_fn=<MseLossBackward0>), tensor(1.5894, grad_fn=<MseLossBackward0>), tensor(1.2704, grad_fn=<MseLossBackward0>), tensor(1.3791, grad_fn=<MseLossBackward0>), tensor(1.6363, grad_fn=<MseLossBackward0>), tensor(1.6801, grad_fn=<MseLossBackward0>), tensor(1.4375, grad_fn=<MseLossBackward0>), tensor(1.6304, grad_fn=<MseLossBackward0>), tensor(1.7062, grad_fn=<MseLossBackward0>), tensor(1.7128, grad_fn=<MseLossBackward0>), tensor(1.9016, grad_fn=<MseLossBackward0>), tensor(1.0230, grad_fn=<MseLossBackward0>), tensor(1.7758, grad_fn=<MseLossBackward0>), tensor(2.2259, grad_fn=<MseLossBackward0>), tensor(1.7847, grad_fn=<MseLossBackward0>), tensor(1.9404, grad_fn=<MseLossBackward0>), tensor(1.4669, grad_fn=<MseLossBackward0>), tensor(1.3983, grad_fn=<MseLossBackward0>), tensor(1.3985, grad_fn=<MseLossBackward0>), tensor(1.5247, grad_fn=<MseLossBackward0>), tensor(1.0482, grad_fn=<MseLossBackward0>), tensor(2.1910, grad_fn=<MseLossBackward0>), tensor(1.8877, grad_fn=<MseLossBackward0>), tensor(2.4173, grad_fn=<MseLossBackward0>), tensor(2.6013, grad_fn=<MseLossBackward0>), tensor(1.7735, grad_fn=<MseLossBackward0>), tensor(1.2421, grad_fn=<MseLossBackward0>), tensor(1.7440, grad_fn=<MseLossBackward0>), tensor(1.5871, grad_fn=<MseLossBackward0>), tensor(1.6668, grad_fn=<MseLossBackward0>), tensor(1.4181, grad_fn=<MseLossBackward0>), tensor(1.7680, grad_fn=<MseLossBackward0>), tensor(1.8791, grad_fn=<MseLossBackward0>), tensor(1.9081, grad_fn=<MseLossBackward0>), tensor(1.5235, grad_fn=<MseLossBackward0>), tensor(0.8579, grad_fn=<MseLossBackward0>), tensor(3.1512, grad_fn=<MseLossBackward0>), tensor(2.0332, grad_fn=<MseLossBackward0>), tensor(1.6001, grad_fn=<MseLossBackward0>), tensor(1.7230, grad_fn=<MseLossBackward0>), tensor(2.5613, grad_fn=<MseLossBackward0>), tensor(1.9189, grad_fn=<MseLossBackward0>), tensor(1.7316, grad_fn=<MseLossBackward0>), tensor(1.4250, grad_fn=<MseLossBackward0>), tensor(2.4661, grad_fn=<MseLossBackward0>), tensor(1.8867, grad_fn=<MseLossBackward0>), tensor(1.5511, grad_fn=<MseLossBackward0>), tensor(1.5076, grad_fn=<MseLossBackward0>), tensor(1.5548, grad_fn=<MseLossBackward0>), tensor(1.4560, grad_fn=<MseLossBackward0>), tensor(1.8562, grad_fn=<MseLossBackward0>), tensor(1.5485, grad_fn=<MseLossBackward0>), tensor(1.1445, grad_fn=<MseLossBackward0>), tensor(1.5219, grad_fn=<MseLossBackward0>), tensor(1.5145, grad_fn=<MseLossBackward0>), tensor(1.1713, grad_fn=<MseLossBackward0>), tensor(1.4753, grad_fn=<MseLossBackward0>), tensor(1.7457, grad_fn=<MseLossBackward0>), tensor(1.8050, grad_fn=<MseLossBackward0>), tensor(1.4815, grad_fn=<MseLossBackward0>), tensor(1.3314, grad_fn=<MseLossBackward0>), tensor(2.1702, grad_fn=<MseLossBackward0>), tensor(2.3477, grad_fn=<MseLossBackward0>), tensor(2.1041, grad_fn=<MseLossBackward0>), tensor(1.8222, grad_fn=<MseLossBackward0>), tensor(1.4874, grad_fn=<MseLossBackward0>), tensor(1.0683, grad_fn=<MseLossBackward0>), tensor(1.1234, grad_fn=<MseLossBackward0>), tensor(1.8169, grad_fn=<MseLossBackward0>), tensor(1.6906, grad_fn=<MseLossBackward0>), tensor(1.1006, grad_fn=<MseLossBackward0>), tensor(1.2119, grad_fn=<MseLossBackward0>), tensor(1.4485, grad_fn=<MseLossBackward0>), tensor(1.7235, grad_fn=<MseLossBackward0>), tensor(1.5968, grad_fn=<MseLossBackward0>), tensor(1.0528, grad_fn=<MseLossBackward0>), tensor(1.2633, grad_fn=<MseLossBackward0>), tensor(1.6142, grad_fn=<MseLossBackward0>), tensor(1.4047, grad_fn=<MseLossBackward0>), tensor(1.2465, grad_fn=<MseLossBackward0>), tensor(0.8371, grad_fn=<MseLossBackward0>), tensor(1.2987, grad_fn=<MseLossBackward0>), tensor(1.2913, grad_fn=<MseLossBackward0>), tensor(0.8657, grad_fn=<MseLossBackward0>), tensor(1.3928, grad_fn=<MseLossBackward0>), tensor(1.0612, grad_fn=<MseLossBackward0>), tensor(1.4147, grad_fn=<MseLossBackward0>), tensor(1.4149, grad_fn=<MseLossBackward0>), tensor(0.8660, grad_fn=<MseLossBackward0>), tensor(1.0766, grad_fn=<MseLossBackward0>), tensor(0.7799, grad_fn=<MseLossBackward0>), tensor(1.0150, grad_fn=<MseLossBackward0>), tensor(1.3248, grad_fn=<MseLossBackward0>), tensor(2.0255, grad_fn=<MseLossBackward0>), tensor(1.6257, grad_fn=<MseLossBackward0>), tensor(1.5746, grad_fn=<MseLossBackward0>), tensor(1.4760, grad_fn=<MseLossBackward0>), tensor(1.7837, grad_fn=<MseLossBackward0>), tensor(1.4036, grad_fn=<MseLossBackward0>), tensor(1.2212, grad_fn=<MseLossBackward0>), tensor(1.2610, grad_fn=<MseLossBackward0>), tensor(1.3760, grad_fn=<MseLossBackward0>), tensor(1.2897, grad_fn=<MseLossBackward0>), tensor(1.1813, grad_fn=<MseLossBackward0>), tensor(1.3010, grad_fn=<MseLossBackward0>), tensor(1.3719, grad_fn=<MseLossBackward0>), tensor(1.2105, grad_fn=<MseLossBackward0>), tensor(1.5530, grad_fn=<MseLossBackward0>), tensor(1.1435, grad_fn=<MseLossBackward0>), tensor(0.9718, grad_fn=<MseLossBackward0>), tensor(1.6601, grad_fn=<MseLossBackward0>), tensor(0.8906, grad_fn=<MseLossBackward0>), tensor(1.4581, grad_fn=<MseLossBackward0>), tensor(1.1540, grad_fn=<MseLossBackward0>), tensor(1.2049, grad_fn=<MseLossBackward0>), tensor(0.9440, grad_fn=<MseLossBackward0>), tensor(1.3550, grad_fn=<MseLossBackward0>), tensor(1.7111, grad_fn=<MseLossBackward0>), tensor(1.2387, grad_fn=<MseLossBackward0>), tensor(1.1156, grad_fn=<MseLossBackward0>), tensor(1.1997, grad_fn=<MseLossBackward0>), tensor(0.9614, grad_fn=<MseLossBackward0>), tensor(1.8656, grad_fn=<MseLossBackward0>), tensor(1.2994, grad_fn=<MseLossBackward0>), tensor(1.1248, grad_fn=<MseLossBackward0>), tensor(1.0866, grad_fn=<MseLossBackward0>), tensor(1.2800, grad_fn=<MseLossBackward0>), tensor(1.2098, grad_fn=<MseLossBackward0>), tensor(1.3294, grad_fn=<MseLossBackward0>), tensor(1.6584, grad_fn=<MseLossBackward0>), tensor(1.4989, grad_fn=<MseLossBackward0>), tensor(1.0992, grad_fn=<MseLossBackward0>), tensor(1.5188, grad_fn=<MseLossBackward0>), tensor(1.1289, grad_fn=<MseLossBackward0>), tensor(0.9044, grad_fn=<MseLossBackward0>), tensor(1.0886, grad_fn=<MseLossBackward0>), tensor(1.0177, grad_fn=<MseLossBackward0>), tensor(1.1741, grad_fn=<MseLossBackward0>), tensor(1.4048, grad_fn=<MseLossBackward0>), tensor(1.0358, grad_fn=<MseLossBackward0>), tensor(1.0119, grad_fn=<MseLossBackward0>), tensor(0.9129, grad_fn=<MseLossBackward0>), tensor(0.9148, grad_fn=<MseLossBackward0>), tensor(0.6214, grad_fn=<MseLossBackward0>), tensor(1.4529, grad_fn=<MseLossBackward0>), tensor(1.3435, grad_fn=<MseLossBackward0>), tensor(1.3587, grad_fn=<MseLossBackward0>), tensor(1.3278, grad_fn=<MseLossBackward0>), tensor(1.0700, grad_fn=<MseLossBackward0>), tensor(0.9007, grad_fn=<MseLossBackward0>), tensor(1.2005, grad_fn=<MseLossBackward0>), tensor(1.9480, grad_fn=<MseLossBackward0>), tensor(1.3317, grad_fn=<MseLossBackward0>), tensor(1.8939, grad_fn=<MseLossBackward0>), tensor(1.6774, grad_fn=<MseLossBackward0>), tensor(1.5332, grad_fn=<MseLossBackward0>), tensor(0.8448, grad_fn=<MseLossBackward0>), tensor(1.0169, grad_fn=<MseLossBackward0>), tensor(1.4318, grad_fn=<MseLossBackward0>), tensor(1.5523, grad_fn=<MseLossBackward0>), tensor(1.4398, grad_fn=<MseLossBackward0>), tensor(1.2649, grad_fn=<MseLossBackward0>), tensor(1.3927, grad_fn=<MseLossBackward0>), tensor(1.1289, grad_fn=<MseLossBackward0>), tensor(1.0544, grad_fn=<MseLossBackward0>), tensor(1.0252, grad_fn=<MseLossBackward0>), tensor(1.5026, grad_fn=<MseLossBackward0>), tensor(0.9291, grad_fn=<MseLossBackward0>), tensor(1.0947, grad_fn=<MseLossBackward0>), tensor(1.6375, grad_fn=<MseLossBackward0>), tensor(1.2132, grad_fn=<MseLossBackward0>), tensor(1.0076, grad_fn=<MseLossBackward0>), tensor(1.2233, grad_fn=<MseLossBackward0>), tensor(1.6280, grad_fn=<MseLossBackward0>), tensor(0.7880, grad_fn=<MseLossBackward0>), tensor(1.4598, grad_fn=<MseLossBackward0>), tensor(1.2938, grad_fn=<MseLossBackward0>), tensor(0.9531, grad_fn=<MseLossBackward0>), tensor(1.5307, grad_fn=<MseLossBackward0>), tensor(1.2037, grad_fn=<MseLossBackward0>), tensor(1.4030, grad_fn=<MseLossBackward0>), tensor(1.1937, grad_fn=<MseLossBackward0>), tensor(1.1590, grad_fn=<MseLossBackward0>), tensor(1.3597, grad_fn=<MseLossBackward0>), tensor(1.1607, grad_fn=<MseLossBackward0>), tensor(1.0572, grad_fn=<MseLossBackward0>), tensor(1.1293, grad_fn=<MseLossBackward0>), tensor(1.5313, grad_fn=<MseLossBackward0>), tensor(0.9061, grad_fn=<MseLossBackward0>), tensor(1.1285, grad_fn=<MseLossBackward0>), tensor(0.9346, grad_fn=<MseLossBackward0>), tensor(0.8300, grad_fn=<MseLossBackward0>), tensor(1.3603, grad_fn=<MseLossBackward0>), tensor(0.6159, grad_fn=<MseLossBackward0>), tensor(1.2789, grad_fn=<MseLossBackward0>), tensor(0.4804, grad_fn=<MseLossBackward0>), tensor(1.1508, grad_fn=<MseLossBackward0>), tensor(0.9558, grad_fn=<MseLossBackward0>), tensor(1.2460, grad_fn=<MseLossBackward0>), tensor(0.8768, grad_fn=<MseLossBackward0>), tensor(1.0933, grad_fn=<MseLossBackward0>), tensor(1.1263, grad_fn=<MseLossBackward0>), tensor(1.0628, grad_fn=<MseLossBackward0>), tensor(0.8741, grad_fn=<MseLossBackward0>), tensor(1.0572, grad_fn=<MseLossBackward0>), tensor(0.9943, grad_fn=<MseLossBackward0>), tensor(0.9532, grad_fn=<MseLossBackward0>), tensor(0.9583, grad_fn=<MseLossBackward0>), tensor(1.0376, grad_fn=<MseLossBackward0>), tensor(1.3481, grad_fn=<MseLossBackward0>), tensor(0.8087, grad_fn=<MseLossBackward0>), tensor(0.9856, grad_fn=<MseLossBackward0>), tensor(1.1423, grad_fn=<MseLossBackward0>), tensor(0.7148, grad_fn=<MseLossBackward0>), tensor(0.9652, grad_fn=<MseLossBackward0>), tensor(1.4692, grad_fn=<MseLossBackward0>), tensor(0.6988, grad_fn=<MseLossBackward0>), tensor(0.8155, grad_fn=<MseLossBackward0>), tensor(0.9304, grad_fn=<MseLossBackward0>), tensor(0.7450, grad_fn=<MseLossBackward0>), tensor(1.0650, grad_fn=<MseLossBackward0>), tensor(0.9215, grad_fn=<MseLossBackward0>), tensor(0.9540, grad_fn=<MseLossBackward0>), tensor(1.3599, grad_fn=<MseLossBackward0>), tensor(0.8956, grad_fn=<MseLossBackward0>), tensor(1.4127, grad_fn=<MseLossBackward0>), tensor(1.5353, grad_fn=<MseLossBackward0>), tensor(0.7834, grad_fn=<MseLossBackward0>), tensor(1.0525, grad_fn=<MseLossBackward0>), tensor(0.9822, grad_fn=<MseLossBackward0>), tensor(1.2409, grad_fn=<MseLossBackward0>), tensor(0.8163, grad_fn=<MseLossBackward0>), tensor(1.1685, grad_fn=<MseLossBackward0>), tensor(0.9136, grad_fn=<MseLossBackward0>), tensor(0.9452, grad_fn=<MseLossBackward0>), tensor(1.2172, grad_fn=<MseLossBackward0>), tensor(0.9816, grad_fn=<MseLossBackward0>), tensor(1.2605, grad_fn=<MseLossBackward0>), tensor(0.9430, grad_fn=<MseLossBackward0>), tensor(1.2317, grad_fn=<MseLossBackward0>), tensor(0.9661, grad_fn=<MseLossBackward0>), tensor(0.8508, grad_fn=<MseLossBackward0>), tensor(1.0217, grad_fn=<MseLossBackward0>), tensor(0.9515, grad_fn=<MseLossBackward0>), tensor(1.4430, grad_fn=<MseLossBackward0>), tensor(1.0157, grad_fn=<MseLossBackward0>), tensor(0.7240, grad_fn=<MseLossBackward0>), tensor(0.8700, grad_fn=<MseLossBackward0>), tensor(1.0833, grad_fn=<MseLossBackward0>), tensor(0.6673, grad_fn=<MseLossBackward0>), tensor(1.2450, grad_fn=<MseLossBackward0>), tensor(0.9363, grad_fn=<MseLossBackward0>), tensor(0.6751, grad_fn=<MseLossBackward0>), tensor(0.7358, grad_fn=<MseLossBackward0>), tensor(0.8788, grad_fn=<MseLossBackward0>), tensor(0.9720, grad_fn=<MseLossBackward0>), tensor(1.2195, grad_fn=<MseLossBackward0>), tensor(0.8126, grad_fn=<MseLossBackward0>), tensor(1.1166, grad_fn=<MseLossBackward0>), tensor(0.8237, grad_fn=<MseLossBackward0>), tensor(0.9214, grad_fn=<MseLossBackward0>), tensor(0.8502, grad_fn=<MseLossBackward0>), tensor(1.1429, grad_fn=<MseLossBackward0>), tensor(0.7464, grad_fn=<MseLossBackward0>), tensor(0.8889, grad_fn=<MseLossBackward0>), tensor(0.9899, grad_fn=<MseLossBackward0>), tensor(0.9034, grad_fn=<MseLossBackward0>), tensor(0.9888, grad_fn=<MseLossBackward0>), tensor(0.6954, grad_fn=<MseLossBackward0>), tensor(0.8475, grad_fn=<MseLossBackward0>), tensor(0.8224, grad_fn=<MseLossBackward0>), tensor(1.2441, grad_fn=<MseLossBackward0>), tensor(0.9076, grad_fn=<MseLossBackward0>), tensor(1.1280, grad_fn=<MseLossBackward0>), tensor(1.1392, grad_fn=<MseLossBackward0>), tensor(0.8828, grad_fn=<MseLossBackward0>), tensor(1.0767, grad_fn=<MseLossBackward0>), tensor(0.9391, grad_fn=<MseLossBackward0>), tensor(0.9804, grad_fn=<MseLossBackward0>), tensor(1.0685, grad_fn=<MseLossBackward0>), tensor(0.7808, grad_fn=<MseLossBackward0>), tensor(1.2045, grad_fn=<MseLossBackward0>), tensor(1.3271, grad_fn=<MseLossBackward0>), tensor(1.1734, grad_fn=<MseLossBackward0>), tensor(0.7917, grad_fn=<MseLossBackward0>), tensor(0.9123, grad_fn=<MseLossBackward0>), tensor(0.5978, grad_fn=<MseLossBackward0>), tensor(0.9455, grad_fn=<MseLossBackward0>), tensor(1.4056, grad_fn=<MseLossBackward0>), tensor(1.4733, grad_fn=<MseLossBackward0>), tensor(1.4890, grad_fn=<MseLossBackward0>), tensor(1.0567, grad_fn=<MseLossBackward0>), tensor(0.8207, grad_fn=<MseLossBackward0>), tensor(1.3908, grad_fn=<MseLossBackward0>), tensor(1.2446, grad_fn=<MseLossBackward0>), tensor(0.8304, grad_fn=<MseLossBackward0>), tensor(1.0563, grad_fn=<MseLossBackward0>), tensor(1.1817, grad_fn=<MseLossBackward0>), tensor(1.0938, grad_fn=<MseLossBackward0>), tensor(1.0874, grad_fn=<MseLossBackward0>), tensor(1.1744, grad_fn=<MseLossBackward0>), tensor(1.2237, grad_fn=<MseLossBackward0>), tensor(0.8353, grad_fn=<MseLossBackward0>), tensor(1.0143, grad_fn=<MseLossBackward0>), tensor(1.0321, grad_fn=<MseLossBackward0>), tensor(1.2090, grad_fn=<MseLossBackward0>), tensor(1.0089, grad_fn=<MseLossBackward0>), tensor(1.6037, grad_fn=<MseLossBackward0>), tensor(0.8129, grad_fn=<MseLossBackward0>), tensor(0.9657, grad_fn=<MseLossBackward0>), tensor(1.0475, grad_fn=<MseLossBackward0>), tensor(1.2035, grad_fn=<MseLossBackward0>), tensor(1.0107, grad_fn=<MseLossBackward0>), tensor(0.9456, grad_fn=<MseLossBackward0>), tensor(1.0379, grad_fn=<MseLossBackward0>), tensor(1.0528, grad_fn=<MseLossBackward0>), tensor(1.3049, grad_fn=<MseLossBackward0>), tensor(0.9509, grad_fn=<MseLossBackward0>), tensor(0.9836, grad_fn=<MseLossBackward0>), tensor(0.8520, grad_fn=<MseLossBackward0>), tensor(0.9660, grad_fn=<MseLossBackward0>), tensor(0.8004, grad_fn=<MseLossBackward0>), tensor(1.1681, grad_fn=<MseLossBackward0>), tensor(0.8150, grad_fn=<MseLossBackward0>), tensor(1.7503, grad_fn=<MseLossBackward0>), tensor(0.9226, grad_fn=<MseLossBackward0>), tensor(1.0556, grad_fn=<MseLossBackward0>), tensor(1.4331, grad_fn=<MseLossBackward0>), tensor(0.6002, grad_fn=<MseLossBackward0>), tensor(1.2818, grad_fn=<MseLossBackward0>), tensor(1.2936, grad_fn=<MseLossBackward0>), tensor(0.7763, grad_fn=<MseLossBackward0>), tensor(0.8495, grad_fn=<MseLossBackward0>), tensor(1.0557, grad_fn=<MseLossBackward0>), tensor(0.6323, grad_fn=<MseLossBackward0>), tensor(0.7604, grad_fn=<MseLossBackward0>), tensor(1.0688, grad_fn=<MseLossBackward0>), tensor(0.8404, grad_fn=<MseLossBackward0>), tensor(0.5764, grad_fn=<MseLossBackward0>), tensor(0.6390, grad_fn=<MseLossBackward0>), tensor(0.8888, grad_fn=<MseLossBackward0>), tensor(0.7665, grad_fn=<MseLossBackward0>), tensor(0.6956, grad_fn=<MseLossBackward0>), tensor(0.7898, grad_fn=<MseLossBackward0>), tensor(0.9383, grad_fn=<MseLossBackward0>), tensor(0.7330, grad_fn=<MseLossBackward0>), tensor(0.6551, grad_fn=<MseLossBackward0>), tensor(1.3303, grad_fn=<MseLossBackward0>), tensor(0.6106, grad_fn=<MseLossBackward0>), tensor(0.8489, grad_fn=<MseLossBackward0>), tensor(0.9768, grad_fn=<MseLossBackward0>), tensor(1.0849, grad_fn=<MseLossBackward0>), tensor(0.5851, grad_fn=<MseLossBackward0>), tensor(0.7626, grad_fn=<MseLossBackward0>), tensor(0.7492, grad_fn=<MseLossBackward0>), tensor(0.6309, grad_fn=<MseLossBackward0>), tensor(1.5117, grad_fn=<MseLossBackward0>), tensor(1.1374, grad_fn=<MseLossBackward0>), tensor(1.0659, grad_fn=<MseLossBackward0>), tensor(0.9316, grad_fn=<MseLossBackward0>), tensor(0.8227, grad_fn=<MseLossBackward0>), tensor(1.1358, grad_fn=<MseLossBackward0>), tensor(0.8014, grad_fn=<MseLossBackward0>), tensor(0.9707, grad_fn=<MseLossBackward0>), tensor(0.8040, grad_fn=<MseLossBackward0>), tensor(0.7978, grad_fn=<MseLossBackward0>), tensor(1.0775, grad_fn=<MseLossBackward0>), tensor(1.1915, grad_fn=<MseLossBackward0>), tensor(1.0374, grad_fn=<MseLossBackward0>), tensor(0.8309, grad_fn=<MseLossBackward0>), tensor(0.8870, grad_fn=<MseLossBackward0>), tensor(0.6598, grad_fn=<MseLossBackward0>), tensor(0.9680, grad_fn=<MseLossBackward0>), tensor(1.0941, grad_fn=<MseLossBackward0>), tensor(1.2895, grad_fn=<MseLossBackward0>), tensor(0.8993, grad_fn=<MseLossBackward0>), tensor(1.2538, grad_fn=<MseLossBackward0>), tensor(0.8711, grad_fn=<MseLossBackward0>), tensor(0.7128, grad_fn=<MseLossBackward0>), tensor(0.8325, grad_fn=<MseLossBackward0>), tensor(0.9766, grad_fn=<MseLossBackward0>), tensor(1.2285, grad_fn=<MseLossBackward0>), tensor(1.4874, grad_fn=<MseLossBackward0>), tensor(1.3841, grad_fn=<MseLossBackward0>), tensor(1.6626, grad_fn=<MseLossBackward0>), tensor(1.2798, grad_fn=<MseLossBackward0>), tensor(1.0803, grad_fn=<MseLossBackward0>), tensor(0.9163, grad_fn=<MseLossBackward0>), tensor(0.7306, grad_fn=<MseLossBackward0>), tensor(1.2029, grad_fn=<MseLossBackward0>), tensor(1.2028, grad_fn=<MseLossBackward0>), tensor(0.6985, grad_fn=<MseLossBackward0>), tensor(1.1683, grad_fn=<MseLossBackward0>), tensor(1.2660, grad_fn=<MseLossBackward0>), tensor(1.1019, grad_fn=<MseLossBackward0>), tensor(1.1017, grad_fn=<MseLossBackward0>), tensor(0.8535, grad_fn=<MseLossBackward0>), tensor(0.8910, grad_fn=<MseLossBackward0>), tensor(0.8231, grad_fn=<MseLossBackward0>), tensor(1.1820, grad_fn=<MseLossBackward0>), tensor(0.9727, grad_fn=<MseLossBackward0>), tensor(0.9589, grad_fn=<MseLossBackward0>), tensor(0.9291, grad_fn=<MseLossBackward0>), tensor(1.0148, grad_fn=<MseLossBackward0>), tensor(1.4101, grad_fn=<MseLossBackward0>), tensor(1.0594, grad_fn=<MseLossBackward0>), tensor(0.9394, grad_fn=<MseLossBackward0>), tensor(1.3283, grad_fn=<MseLossBackward0>), tensor(0.6548, grad_fn=<MseLossBackward0>), tensor(0.9211, grad_fn=<MseLossBackward0>), tensor(0.9036, grad_fn=<MseLossBackward0>), tensor(0.9345, grad_fn=<MseLossBackward0>), tensor(1.2933, grad_fn=<MseLossBackward0>), tensor(0.8370, grad_fn=<MseLossBackward0>), tensor(0.9241, grad_fn=<MseLossBackward0>), tensor(1.0318, grad_fn=<MseLossBackward0>), tensor(0.6729, grad_fn=<MseLossBackward0>), tensor(0.9236, grad_fn=<MseLossBackward0>), tensor(0.8204, grad_fn=<MseLossBackward0>), tensor(1.0731, grad_fn=<MseLossBackward0>), tensor(1.1666, grad_fn=<MseLossBackward0>), tensor(0.9902, grad_fn=<MseLossBackward0>), tensor(0.8151, grad_fn=<MseLossBackward0>), tensor(0.8980, grad_fn=<MseLossBackward0>), tensor(0.8940, grad_fn=<MseLossBackward0>), tensor(0.6935, grad_fn=<MseLossBackward0>), tensor(0.7377, grad_fn=<MseLossBackward0>), tensor(0.7415, grad_fn=<MseLossBackward0>), tensor(1.0407, grad_fn=<MseLossBackward0>), tensor(1.3220, grad_fn=<MseLossBackward0>), tensor(0.5706, grad_fn=<MseLossBackward0>), tensor(0.8941, grad_fn=<MseLossBackward0>), tensor(0.8691, grad_fn=<MseLossBackward0>), tensor(0.7309, grad_fn=<MseLossBackward0>), tensor(0.8218, grad_fn=<MseLossBackward0>), tensor(0.6637, grad_fn=<MseLossBackward0>), tensor(0.6643, grad_fn=<MseLossBackward0>), tensor(0.6958, grad_fn=<MseLossBackward0>), tensor(0.7550, grad_fn=<MseLossBackward0>), tensor(1.1641, grad_fn=<MseLossBackward0>), tensor(0.7265, grad_fn=<MseLossBackward0>), tensor(1.3372, grad_fn=<MseLossBackward0>), tensor(1.3100, grad_fn=<MseLossBackward0>), tensor(0.8028, grad_fn=<MseLossBackward0>), tensor(0.7217, grad_fn=<MseLossBackward0>), tensor(0.6751, grad_fn=<MseLossBackward0>), tensor(0.6468, grad_fn=<MseLossBackward0>), tensor(0.6571, grad_fn=<MseLossBackward0>), tensor(1.7360, grad_fn=<MseLossBackward0>), tensor(0.8437, grad_fn=<MseLossBackward0>), tensor(0.8186, grad_fn=<MseLossBackward0>), tensor(0.8976, grad_fn=<MseLossBackward0>), tensor(0.8900, grad_fn=<MseLossBackward0>), tensor(1.3726, grad_fn=<MseLossBackward0>), tensor(0.8960, grad_fn=<MseLossBackward0>), tensor(1.0474, grad_fn=<MseLossBackward0>), tensor(0.9600, grad_fn=<MseLossBackward0>), tensor(1.0682, grad_fn=<MseLossBackward0>), tensor(1.0233, grad_fn=<MseLossBackward0>), tensor(0.7139, grad_fn=<MseLossBackward0>), tensor(0.8153, grad_fn=<MseLossBackward0>), tensor(0.6813, grad_fn=<MseLossBackward0>), tensor(0.8553, grad_fn=<MseLossBackward0>), tensor(0.9126, grad_fn=<MseLossBackward0>), tensor(0.9972, grad_fn=<MseLossBackward0>), tensor(0.6026, grad_fn=<MseLossBackward0>), tensor(0.6980, grad_fn=<MseLossBackward0>), tensor(1.1939, grad_fn=<MseLossBackward0>), tensor(0.8937, grad_fn=<MseLossBackward0>), tensor(1.0962, grad_fn=<MseLossBackward0>), tensor(0.7373, grad_fn=<MseLossBackward0>), tensor(1.0137, grad_fn=<MseLossBackward0>), tensor(1.5294, grad_fn=<MseLossBackward0>), tensor(1.0410, grad_fn=<MseLossBackward0>), tensor(1.5727, grad_fn=<MseLossBackward0>), tensor(0.6242, grad_fn=<MseLossBackward0>), tensor(0.6514, grad_fn=<MseLossBackward0>), tensor(1.0908, grad_fn=<MseLossBackward0>), tensor(1.1784, grad_fn=<MseLossBackward0>), tensor(1.4629, grad_fn=<MseLossBackward0>), tensor(0.5452, grad_fn=<MseLossBackward0>), tensor(0.8772, grad_fn=<MseLossBackward0>), tensor(0.8238, grad_fn=<MseLossBackward0>), tensor(0.6307, grad_fn=<MseLossBackward0>), tensor(0.5943, grad_fn=<MseLossBackward0>), tensor(1.1565, grad_fn=<MseLossBackward0>), tensor(1.0075, grad_fn=<MseLossBackward0>), tensor(0.6601, grad_fn=<MseLossBackward0>), tensor(1.0061, grad_fn=<MseLossBackward0>), tensor(0.7090, grad_fn=<MseLossBackward0>), tensor(0.9748, grad_fn=<MseLossBackward0>), tensor(0.9150, grad_fn=<MseLossBackward0>), tensor(0.6243, grad_fn=<MseLossBackward0>), tensor(1.0925, grad_fn=<MseLossBackward0>), tensor(1.0192, grad_fn=<MseLossBackward0>), tensor(0.5906, grad_fn=<MseLossBackward0>), tensor(0.6411, grad_fn=<MseLossBackward0>), tensor(1.1891, grad_fn=<MseLossBackward0>), tensor(1.0844, grad_fn=<MseLossBackward0>), tensor(0.9099, grad_fn=<MseLossBackward0>), tensor(0.8173, grad_fn=<MseLossBackward0>), tensor(0.7033, grad_fn=<MseLossBackward0>), tensor(0.7342, grad_fn=<MseLossBackward0>), tensor(0.7986, grad_fn=<MseLossBackward0>), tensor(1.1096, grad_fn=<MseLossBackward0>), tensor(1.0473, grad_fn=<MseLossBackward0>), tensor(0.8303, grad_fn=<MseLossBackward0>), tensor(1.0735, grad_fn=<MseLossBackward0>), tensor(1.0328, grad_fn=<MseLossBackward0>), tensor(0.8505, grad_fn=<MseLossBackward0>), tensor(0.8569, grad_fn=<MseLossBackward0>), tensor(1.0283, grad_fn=<MseLossBackward0>), tensor(0.9719, grad_fn=<MseLossBackward0>), tensor(0.7081, grad_fn=<MseLossBackward0>), tensor(0.9670, grad_fn=<MseLossBackward0>), tensor(0.7813, grad_fn=<MseLossBackward0>), tensor(0.5188, grad_fn=<MseLossBackward0>), tensor(0.9155, grad_fn=<MseLossBackward0>), tensor(1.0285, grad_fn=<MseLossBackward0>), tensor(0.6179, grad_fn=<MseLossBackward0>), tensor(0.7414, grad_fn=<MseLossBackward0>), tensor(0.9658, grad_fn=<MseLossBackward0>), tensor(0.8874, grad_fn=<MseLossBackward0>), tensor(0.9822, grad_fn=<MseLossBackward0>), tensor(0.8899, grad_fn=<MseLossBackward0>), tensor(1.0066, grad_fn=<MseLossBackward0>), tensor(1.0132, grad_fn=<MseLossBackward0>), tensor(1.1951, grad_fn=<MseLossBackward0>), tensor(0.6875, grad_fn=<MseLossBackward0>), tensor(0.8653, grad_fn=<MseLossBackward0>), tensor(1.0155, grad_fn=<MseLossBackward0>), tensor(0.9378, grad_fn=<MseLossBackward0>), tensor(0.7613, grad_fn=<MseLossBackward0>), tensor(0.8330, grad_fn=<MseLossBackward0>), tensor(0.8595, grad_fn=<MseLossBackward0>), tensor(1.1964, grad_fn=<MseLossBackward0>), tensor(1.0018, grad_fn=<MseLossBackward0>), tensor(0.6306, grad_fn=<MseLossBackward0>), tensor(0.9706, grad_fn=<MseLossBackward0>), tensor(0.9296, grad_fn=<MseLossBackward0>), tensor(0.9725, grad_fn=<MseLossBackward0>), tensor(0.9235, grad_fn=<MseLossBackward0>), tensor(1.0919, grad_fn=<MseLossBackward0>), tensor(0.8524, grad_fn=<MseLossBackward0>), tensor(0.8779, grad_fn=<MseLossBackward0>), tensor(0.8807, grad_fn=<MseLossBackward0>), tensor(1.2806, grad_fn=<MseLossBackward0>), tensor(0.6379, grad_fn=<MseLossBackward0>), tensor(0.6239, grad_fn=<MseLossBackward0>), tensor(0.5380, grad_fn=<MseLossBackward0>), tensor(0.8497, grad_fn=<MseLossBackward0>), tensor(1.0851, grad_fn=<MseLossBackward0>), tensor(1.1305, grad_fn=<MseLossBackward0>), tensor(0.9172, grad_fn=<MseLossBackward0>), tensor(1.8002, grad_fn=<MseLossBackward0>), tensor(1.3306, grad_fn=<MseLossBackward0>), tensor(1.0422, grad_fn=<MseLossBackward0>), tensor(0.7174, grad_fn=<MseLossBackward0>), tensor(0.8032, grad_fn=<MseLossBackward0>), tensor(1.2041, grad_fn=<MseLossBackward0>), tensor(0.7936, grad_fn=<MseLossBackward0>), tensor(0.6583, grad_fn=<MseLossBackward0>), tensor(1.0173, grad_fn=<MseLossBackward0>), tensor(0.8906, grad_fn=<MseLossBackward0>), tensor(0.8819, grad_fn=<MseLossBackward0>), tensor(0.8452, grad_fn=<MseLossBackward0>), tensor(0.6639, grad_fn=<MseLossBackward0>), tensor(0.6085, grad_fn=<MseLossBackward0>), tensor(0.9649, grad_fn=<MseLossBackward0>), tensor(0.9139, grad_fn=<MseLossBackward0>), tensor(0.6917, grad_fn=<MseLossBackward0>), tensor(0.7554, grad_fn=<MseLossBackward0>), tensor(0.6782, grad_fn=<MseLossBackward0>), tensor(0.9021, grad_fn=<MseLossBackward0>), tensor(0.9427, grad_fn=<MseLossBackward0>), tensor(0.8776, grad_fn=<MseLossBackward0>), tensor(0.6062, grad_fn=<MseLossBackward0>), tensor(1.0513, grad_fn=<MseLossBackward0>), tensor(0.7657, grad_fn=<MseLossBackward0>), tensor(0.5722, grad_fn=<MseLossBackward0>), tensor(1.0663, grad_fn=<MseLossBackward0>), tensor(1.4469, grad_fn=<MseLossBackward0>), tensor(0.8575, grad_fn=<MseLossBackward0>), tensor(0.7888, grad_fn=<MseLossBackward0>), tensor(0.9924, grad_fn=<MseLossBackward0>), tensor(1.3227, grad_fn=<MseLossBackward0>), tensor(0.8984, grad_fn=<MseLossBackward0>), tensor(1.0244, grad_fn=<MseLossBackward0>), tensor(1.0754, grad_fn=<MseLossBackward0>), tensor(1.0208, grad_fn=<MseLossBackward0>), tensor(0.7147, grad_fn=<MseLossBackward0>), tensor(1.0174, grad_fn=<MseLossBackward0>), tensor(0.8567, grad_fn=<MseLossBackward0>), tensor(0.8744, grad_fn=<MseLossBackward0>), tensor(0.8643, grad_fn=<MseLossBackward0>), tensor(0.8779, grad_fn=<MseLossBackward0>), tensor(1.0011, grad_fn=<MseLossBackward0>), tensor(0.9519, grad_fn=<MseLossBackward0>), tensor(0.7109, grad_fn=<MseLossBackward0>), tensor(0.6594, grad_fn=<MseLossBackward0>), tensor(1.0639, grad_fn=<MseLossBackward0>), tensor(0.8234, grad_fn=<MseLossBackward0>), tensor(0.9330, grad_fn=<MseLossBackward0>), tensor(0.5976, grad_fn=<MseLossBackward0>), tensor(0.6970, grad_fn=<MseLossBackward0>), tensor(1.1247, grad_fn=<MseLossBackward0>), tensor(0.7320, grad_fn=<MseLossBackward0>), tensor(0.8283, grad_fn=<MseLossBackward0>), tensor(0.6615, grad_fn=<MseLossBackward0>), tensor(1.0082, grad_fn=<MseLossBackward0>), tensor(0.6569, grad_fn=<MseLossBackward0>), tensor(0.6678, grad_fn=<MseLossBackward0>), tensor(0.7639, grad_fn=<MseLossBackward0>), tensor(0.5967, grad_fn=<MseLossBackward0>), tensor(0.9339, grad_fn=<MseLossBackward0>), tensor(0.8809, grad_fn=<MseLossBackward0>), tensor(0.7677, grad_fn=<MseLossBackward0>), tensor(0.7780, grad_fn=<MseLossBackward0>), tensor(0.7082, grad_fn=<MseLossBackward0>), tensor(0.9765, grad_fn=<MseLossBackward0>), tensor(0.8261, grad_fn=<MseLossBackward0>), tensor(0.7073, grad_fn=<MseLossBackward0>), tensor(0.7608, grad_fn=<MseLossBackward0>), tensor(0.7465, grad_fn=<MseLossBackward0>), tensor(0.8528, grad_fn=<MseLossBackward0>), tensor(0.7303, grad_fn=<MseLossBackward0>), tensor(0.4907, grad_fn=<MseLossBackward0>), tensor(1.1945, grad_fn=<MseLossBackward0>), tensor(1.0959, grad_fn=<MseLossBackward0>), tensor(0.6657, grad_fn=<MseLossBackward0>), tensor(1.0602, grad_fn=<MseLossBackward0>), tensor(0.8560, grad_fn=<MseLossBackward0>), tensor(0.9531, grad_fn=<MseLossBackward0>), tensor(1.0826, grad_fn=<MseLossBackward0>), tensor(0.9680, grad_fn=<MseLossBackward0>), tensor(0.9771, grad_fn=<MseLossBackward0>), tensor(0.7710, grad_fn=<MseLossBackward0>), tensor(0.7450, grad_fn=<MseLossBackward0>), tensor(0.9071, grad_fn=<MseLossBackward0>), tensor(0.5969, grad_fn=<MseLossBackward0>), tensor(0.8218, grad_fn=<MseLossBackward0>), tensor(1.2202, grad_fn=<MseLossBackward0>), tensor(0.6346, grad_fn=<MseLossBackward0>), tensor(0.7603, grad_fn=<MseLossBackward0>), tensor(0.4964, grad_fn=<MseLossBackward0>), tensor(1.3450, grad_fn=<MseLossBackward0>), tensor(0.9299, grad_fn=<MseLossBackward0>), tensor(0.7852, grad_fn=<MseLossBackward0>), tensor(1.1087, grad_fn=<MseLossBackward0>), tensor(0.4655, grad_fn=<MseLossBackward0>), tensor(1.0004, grad_fn=<MseLossBackward0>), tensor(0.8044, grad_fn=<MseLossBackward0>), tensor(1.2425, grad_fn=<MseLossBackward0>), tensor(0.8378, grad_fn=<MseLossBackward0>), tensor(1.4105, grad_fn=<MseLossBackward0>), tensor(0.8364, grad_fn=<MseLossBackward0>), tensor(0.9776, grad_fn=<MseLossBackward0>), tensor(0.7781, grad_fn=<MseLossBackward0>), tensor(0.9772, grad_fn=<MseLossBackward0>), tensor(0.8236, grad_fn=<MseLossBackward0>), tensor(1.2014, grad_fn=<MseLossBackward0>), tensor(0.9063, grad_fn=<MseLossBackward0>), tensor(0.8473, grad_fn=<MseLossBackward0>), tensor(0.7457, grad_fn=<MseLossBackward0>), tensor(0.7955, grad_fn=<MseLossBackward0>), tensor(0.8740, grad_fn=<MseLossBackward0>), tensor(1.0014, grad_fn=<MseLossBackward0>), tensor(0.7032, grad_fn=<MseLossBackward0>), tensor(0.9705, grad_fn=<MseLossBackward0>), tensor(1.0144, grad_fn=<MseLossBackward0>), tensor(0.6495, grad_fn=<MseLossBackward0>), tensor(0.8180, grad_fn=<MseLossBackward0>), tensor(0.6739, grad_fn=<MseLossBackward0>), tensor(1.0762, grad_fn=<MseLossBackward0>), tensor(1.3459, grad_fn=<MseLossBackward0>), tensor(0.9638, grad_fn=<MseLossBackward0>), tensor(0.9674, grad_fn=<MseLossBackward0>), tensor(0.9680, grad_fn=<MseLossBackward0>), tensor(1.2295, grad_fn=<MseLossBackward0>), tensor(0.7696, grad_fn=<MseLossBackward0>), tensor(1.1507, grad_fn=<MseLossBackward0>), tensor(0.8444, grad_fn=<MseLossBackward0>), tensor(0.8753, grad_fn=<MseLossBackward0>), tensor(0.6409, grad_fn=<MseLossBackward0>), tensor(0.9352, grad_fn=<MseLossBackward0>), tensor(0.6059, grad_fn=<MseLossBackward0>), tensor(0.5331, grad_fn=<MseLossBackward0>), tensor(0.5945, grad_fn=<MseLossBackward0>), tensor(0.8643, grad_fn=<MseLossBackward0>), tensor(0.6752, grad_fn=<MseLossBackward0>), tensor(0.8424, grad_fn=<MseLossBackward0>), tensor(0.8254, grad_fn=<MseLossBackward0>), tensor(0.7042, grad_fn=<MseLossBackward0>), tensor(0.9504, grad_fn=<MseLossBackward0>), tensor(0.6966, grad_fn=<MseLossBackward0>), tensor(0.9654, grad_fn=<MseLossBackward0>), tensor(1.4298, grad_fn=<MseLossBackward0>), tensor(0.7545, grad_fn=<MseLossBackward0>), tensor(0.7583, grad_fn=<MseLossBackward0>), tensor(1.0048, grad_fn=<MseLossBackward0>), tensor(1.0365, grad_fn=<MseLossBackward0>), tensor(0.7228, grad_fn=<MseLossBackward0>), tensor(0.9352, grad_fn=<MseLossBackward0>), tensor(1.0662, grad_fn=<MseLossBackward0>), tensor(0.7757, grad_fn=<MseLossBackward0>), tensor(0.8390, grad_fn=<MseLossBackward0>), tensor(0.9732, grad_fn=<MseLossBackward0>), tensor(1.0943, grad_fn=<MseLossBackward0>), tensor(0.6305, grad_fn=<MseLossBackward0>), tensor(0.5596, grad_fn=<MseLossBackward0>), tensor(0.4025, grad_fn=<MseLossBackward0>), tensor(0.7368, grad_fn=<MseLossBackward0>), tensor(0.7388, grad_fn=<MseLossBackward0>), tensor(0.6070, grad_fn=<MseLossBackward0>), tensor(0.7131, grad_fn=<MseLossBackward0>), tensor(0.6188, grad_fn=<MseLossBackward0>), tensor(0.8034, grad_fn=<MseLossBackward0>), tensor(0.6887, grad_fn=<MseLossBackward0>), tensor(0.8542, grad_fn=<MseLossBackward0>), tensor(1.0771, grad_fn=<MseLossBackward0>), tensor(0.5948, grad_fn=<MseLossBackward0>), tensor(0.7348, grad_fn=<MseLossBackward0>), tensor(0.9080, grad_fn=<MseLossBackward0>), tensor(0.8834, grad_fn=<MseLossBackward0>), tensor(0.5224, grad_fn=<MseLossBackward0>), tensor(0.5878, grad_fn=<MseLossBackward0>), tensor(0.5043, grad_fn=<MseLossBackward0>), tensor(0.8734, grad_fn=<MseLossBackward0>), tensor(1.1510, grad_fn=<MseLossBackward0>), tensor(0.8367, grad_fn=<MseLossBackward0>), tensor(1.3020, grad_fn=<MseLossBackward0>), tensor(1.1153, grad_fn=<MseLossBackward0>), tensor(1.3294, grad_fn=<MseLossBackward0>), tensor(0.9416, grad_fn=<MseLossBackward0>), tensor(0.9165, grad_fn=<MseLossBackward0>), tensor(0.9683, grad_fn=<MseLossBackward0>), tensor(0.7020, grad_fn=<MseLossBackward0>), tensor(1.4500, grad_fn=<MseLossBackward0>), tensor(0.8957, grad_fn=<MseLossBackward0>), tensor(0.9385, grad_fn=<MseLossBackward0>), tensor(0.6768, grad_fn=<MseLossBackward0>), tensor(0.7603, grad_fn=<MseLossBackward0>), tensor(0.7663, grad_fn=<MseLossBackward0>), tensor(1.2012, grad_fn=<MseLossBackward0>), tensor(0.6679, grad_fn=<MseLossBackward0>), tensor(0.6179, grad_fn=<MseLossBackward0>), tensor(0.9731, grad_fn=<MseLossBackward0>), tensor(1.4686, grad_fn=<MseLossBackward0>), tensor(0.6632, grad_fn=<MseLossBackward0>), tensor(1.2834, grad_fn=<MseLossBackward0>), tensor(1.0747, grad_fn=<MseLossBackward0>), tensor(0.6142, grad_fn=<MseLossBackward0>), tensor(0.6453, grad_fn=<MseLossBackward0>), tensor(0.8832, grad_fn=<MseLossBackward0>), tensor(0.6216, grad_fn=<MseLossBackward0>), tensor(0.7181, grad_fn=<MseLossBackward0>), tensor(0.8264, grad_fn=<MseLossBackward0>), tensor(0.8369, grad_fn=<MseLossBackward0>), tensor(0.6981, grad_fn=<MseLossBackward0>), tensor(0.8031, grad_fn=<MseLossBackward0>), tensor(0.8471, grad_fn=<MseLossBackward0>), tensor(1.0284, grad_fn=<MseLossBackward0>), tensor(0.7418, grad_fn=<MseLossBackward0>), tensor(0.7519, grad_fn=<MseLossBackward0>), tensor(0.8354, grad_fn=<MseLossBackward0>), tensor(0.8611, grad_fn=<MseLossBackward0>), tensor(1.4293, grad_fn=<MseLossBackward0>), tensor(0.5816, grad_fn=<MseLossBackward0>), tensor(0.7769, grad_fn=<MseLossBackward0>), tensor(0.6884, grad_fn=<MseLossBackward0>), tensor(0.8236, grad_fn=<MseLossBackward0>), tensor(0.6815, grad_fn=<MseLossBackward0>), tensor(0.8845, grad_fn=<MseLossBackward0>), tensor(0.8242, grad_fn=<MseLossBackward0>), tensor(1.0801, grad_fn=<MseLossBackward0>), tensor(1.1318, grad_fn=<MseLossBackward0>), tensor(1.1474, grad_fn=<MseLossBackward0>), tensor(0.6795, grad_fn=<MseLossBackward0>), tensor(0.7406, grad_fn=<MseLossBackward0>), tensor(1.2814, grad_fn=<MseLossBackward0>), tensor(0.9501, grad_fn=<MseLossBackward0>), tensor(1.0746, grad_fn=<MseLossBackward0>), tensor(0.6017, grad_fn=<MseLossBackward0>), tensor(0.8785, grad_fn=<MseLossBackward0>), tensor(0.7473, grad_fn=<MseLossBackward0>), tensor(0.4522, grad_fn=<MseLossBackward0>), tensor(0.5286, grad_fn=<MseLossBackward0>), tensor(1.2296, grad_fn=<MseLossBackward0>), tensor(0.7205, grad_fn=<MseLossBackward0>), tensor(1.2575, grad_fn=<MseLossBackward0>), tensor(0.9088, grad_fn=<MseLossBackward0>), tensor(1.0515, grad_fn=<MseLossBackward0>), tensor(0.7550, grad_fn=<MseLossBackward0>), tensor(1.1058, grad_fn=<MseLossBackward0>), tensor(0.7587, grad_fn=<MseLossBackward0>), tensor(0.9700, grad_fn=<MseLossBackward0>), tensor(0.5446, grad_fn=<MseLossBackward0>), tensor(1.0994, grad_fn=<MseLossBackward0>), tensor(0.8989, grad_fn=<MseLossBackward0>), tensor(1.0564, grad_fn=<MseLossBackward0>), tensor(0.9802, grad_fn=<MseLossBackward0>), tensor(0.8045, grad_fn=<MseLossBackward0>), tensor(0.8228, grad_fn=<MseLossBackward0>), tensor(0.9294, grad_fn=<MseLossBackward0>), tensor(0.6332, grad_fn=<MseLossBackward0>), tensor(0.7969, grad_fn=<MseLossBackward0>), tensor(0.7446, grad_fn=<MseLossBackward0>), tensor(1.2091, grad_fn=<MseLossBackward0>), tensor(1.1934, grad_fn=<MseLossBackward0>), tensor(0.6021, grad_fn=<MseLossBackward0>), tensor(0.9449, grad_fn=<MseLossBackward0>), tensor(0.5965, grad_fn=<MseLossBackward0>), tensor(1.2111, grad_fn=<MseLossBackward0>), tensor(0.8981, grad_fn=<MseLossBackward0>), tensor(0.7722, grad_fn=<MseLossBackward0>), tensor(0.9151, grad_fn=<MseLossBackward0>), tensor(0.8490, grad_fn=<MseLossBackward0>), tensor(0.9957, grad_fn=<MseLossBackward0>), tensor(0.5691, grad_fn=<MseLossBackward0>), tensor(0.9232, grad_fn=<MseLossBackward0>), tensor(0.8795, grad_fn=<MseLossBackward0>), tensor(1.2349, grad_fn=<MseLossBackward0>), tensor(0.7396, grad_fn=<MseLossBackward0>), tensor(0.6767, grad_fn=<MseLossBackward0>), tensor(0.8315, grad_fn=<MseLossBackward0>), tensor(0.7873, grad_fn=<MseLossBackward0>), tensor(0.7986, grad_fn=<MseLossBackward0>), tensor(0.7686, grad_fn=<MseLossBackward0>), tensor(1.1017, grad_fn=<MseLossBackward0>), tensor(0.6126, grad_fn=<MseLossBackward0>), tensor(0.6507, grad_fn=<MseLossBackward0>), tensor(0.8721, grad_fn=<MseLossBackward0>), tensor(0.5510, grad_fn=<MseLossBackward0>), tensor(0.9256, grad_fn=<MseLossBackward0>), tensor(0.9408, grad_fn=<MseLossBackward0>), tensor(0.6155, grad_fn=<MseLossBackward0>), tensor(0.9502, grad_fn=<MseLossBackward0>), tensor(0.7251, grad_fn=<MseLossBackward0>), tensor(0.8629, grad_fn=<MseLossBackward0>), tensor(0.7320, grad_fn=<MseLossBackward0>), tensor(0.9550, grad_fn=<MseLossBackward0>), tensor(0.7888, grad_fn=<MseLossBackward0>), tensor(1.1906, grad_fn=<MseLossBackward0>), tensor(0.7925, grad_fn=<MseLossBackward0>), tensor(0.7198, grad_fn=<MseLossBackward0>), tensor(0.7593, grad_fn=<MseLossBackward0>), tensor(0.6470, grad_fn=<MseLossBackward0>), tensor(0.9847, grad_fn=<MseLossBackward0>), tensor(0.8667, grad_fn=<MseLossBackward0>), tensor(0.9618, grad_fn=<MseLossBackward0>), tensor(0.5030, grad_fn=<MseLossBackward0>), tensor(0.8274, grad_fn=<MseLossBackward0>), tensor(1.0460, grad_fn=<MseLossBackward0>), tensor(0.7100, grad_fn=<MseLossBackward0>), tensor(0.8399, grad_fn=<MseLossBackward0>), tensor(1.1820, grad_fn=<MseLossBackward0>), tensor(0.8689, grad_fn=<MseLossBackward0>), tensor(0.9134, grad_fn=<MseLossBackward0>), tensor(0.6299, grad_fn=<MseLossBackward0>), tensor(1.2526, grad_fn=<MseLossBackward0>), tensor(1.0186, grad_fn=<MseLossBackward0>), tensor(1.2124, grad_fn=<MseLossBackward0>), tensor(0.8444, grad_fn=<MseLossBackward0>), tensor(0.5981, grad_fn=<MseLossBackward0>), tensor(1.0130, grad_fn=<MseLossBackward0>), tensor(0.8475, grad_fn=<MseLossBackward0>), tensor(0.5630, grad_fn=<MseLossBackward0>), tensor(0.6901, grad_fn=<MseLossBackward0>), tensor(0.9903, grad_fn=<MseLossBackward0>), tensor(0.7609, grad_fn=<MseLossBackward0>), tensor(1.2627, grad_fn=<MseLossBackward0>), tensor(0.6754, grad_fn=<MseLossBackward0>), tensor(0.5561, grad_fn=<MseLossBackward0>), tensor(0.6447, grad_fn=<MseLossBackward0>), tensor(0.6562, grad_fn=<MseLossBackward0>), tensor(0.8255, grad_fn=<MseLossBackward0>), tensor(1.1525, grad_fn=<MseLossBackward0>), tensor(0.4524, grad_fn=<MseLossBackward0>), tensor(0.5269, grad_fn=<MseLossBackward0>), tensor(0.8038, grad_fn=<MseLossBackward0>), tensor(0.6981, grad_fn=<MseLossBackward0>), tensor(0.6481, grad_fn=<MseLossBackward0>), tensor(0.5330, grad_fn=<MseLossBackward0>), tensor(0.5632, grad_fn=<MseLossBackward0>), tensor(0.8935, grad_fn=<MseLossBackward0>), tensor(1.1541, grad_fn=<MseLossBackward0>), tensor(0.9785, grad_fn=<MseLossBackward0>), tensor(0.6197, grad_fn=<MseLossBackward0>), tensor(1.1247, grad_fn=<MseLossBackward0>), tensor(0.9015, grad_fn=<MseLossBackward0>), tensor(0.7014, grad_fn=<MseLossBackward0>), tensor(1.1043, grad_fn=<MseLossBackward0>), tensor(1.0636, grad_fn=<MseLossBackward0>), tensor(0.5290, grad_fn=<MseLossBackward0>), tensor(1.4096, grad_fn=<MseLossBackward0>), tensor(0.8002, grad_fn=<MseLossBackward0>), tensor(0.9134, grad_fn=<MseLossBackward0>), tensor(0.8271, grad_fn=<MseLossBackward0>), tensor(0.9040, grad_fn=<MseLossBackward0>), tensor(0.8028, grad_fn=<MseLossBackward0>), tensor(0.8110, grad_fn=<MseLossBackward0>), tensor(0.7625, grad_fn=<MseLossBackward0>), tensor(1.0662, grad_fn=<MseLossBackward0>), tensor(0.7255, grad_fn=<MseLossBackward0>), tensor(0.5814, grad_fn=<MseLossBackward0>), tensor(0.7802, grad_fn=<MseLossBackward0>), tensor(0.7667, grad_fn=<MseLossBackward0>), tensor(0.9071, grad_fn=<MseLossBackward0>), tensor(0.7537, grad_fn=<MseLossBackward0>), tensor(0.6718, grad_fn=<MseLossBackward0>), tensor(1.0425, grad_fn=<MseLossBackward0>), tensor(0.6596, grad_fn=<MseLossBackward0>), tensor(0.7273, grad_fn=<MseLossBackward0>), tensor(0.9838, grad_fn=<MseLossBackward0>), tensor(0.6322, grad_fn=<MseLossBackward0>), tensor(0.5853, grad_fn=<MseLossBackward0>), tensor(1.1895, grad_fn=<MseLossBackward0>), tensor(1.0245, grad_fn=<MseLossBackward0>), tensor(0.6117, grad_fn=<MseLossBackward0>), tensor(0.7020, grad_fn=<MseLossBackward0>), tensor(0.5651, grad_fn=<MseLossBackward0>), tensor(0.7575, grad_fn=<MseLossBackward0>), tensor(1.1212, grad_fn=<MseLossBackward0>), tensor(0.6108, grad_fn=<MseLossBackward0>), tensor(0.8262, grad_fn=<MseLossBackward0>), tensor(0.6268, grad_fn=<MseLossBackward0>), tensor(0.7419, grad_fn=<MseLossBackward0>), tensor(0.8932, grad_fn=<MseLossBackward0>), tensor(0.7122, grad_fn=<MseLossBackward0>), tensor(1.4239, grad_fn=<MseLossBackward0>), tensor(1.0746, grad_fn=<MseLossBackward0>), tensor(0.7270, grad_fn=<MseLossBackward0>), tensor(1.1224, grad_fn=<MseLossBackward0>), tensor(0.8172, grad_fn=<MseLossBackward0>), tensor(1.0874, grad_fn=<MseLossBackward0>), tensor(0.9695, grad_fn=<MseLossBackward0>), tensor(1.0491, grad_fn=<MseLossBackward0>), tensor(0.9291, grad_fn=<MseLossBackward0>), tensor(1.0083, grad_fn=<MseLossBackward0>), tensor(0.8795, grad_fn=<MseLossBackward0>), tensor(0.9576, grad_fn=<MseLossBackward0>), tensor(1.4255, grad_fn=<MseLossBackward0>), tensor(0.8472, grad_fn=<MseLossBackward0>), tensor(0.7170, grad_fn=<MseLossBackward0>), tensor(0.5435, grad_fn=<MseLossBackward0>), tensor(0.9885, grad_fn=<MseLossBackward0>), tensor(0.5679, grad_fn=<MseLossBackward0>), tensor(0.6058, grad_fn=<MseLossBackward0>), tensor(0.7132, grad_fn=<MseLossBackward0>), tensor(0.8972, grad_fn=<MseLossBackward0>), tensor(0.8800, grad_fn=<MseLossBackward0>), tensor(1.0150, grad_fn=<MseLossBackward0>), tensor(0.7156, grad_fn=<MseLossBackward0>), tensor(0.9062, grad_fn=<MseLossBackward0>), tensor(0.9100, grad_fn=<MseLossBackward0>), tensor(0.6778, grad_fn=<MseLossBackward0>), tensor(0.5948, grad_fn=<MseLossBackward0>), tensor(0.9425, grad_fn=<MseLossBackward0>), tensor(0.7167, grad_fn=<MseLossBackward0>), tensor(1.0862, grad_fn=<MseLossBackward0>), tensor(1.1401, grad_fn=<MseLossBackward0>), tensor(1.1154, grad_fn=<MseLossBackward0>), tensor(0.5254, grad_fn=<MseLossBackward0>), tensor(1.1878, grad_fn=<MseLossBackward0>), tensor(0.8999, grad_fn=<MseLossBackward0>), tensor(0.9371, grad_fn=<MseLossBackward0>), tensor(0.4996, grad_fn=<MseLossBackward0>), tensor(0.8474, grad_fn=<MseLossBackward0>), tensor(0.7977, grad_fn=<MseLossBackward0>), tensor(0.6354, grad_fn=<MseLossBackward0>), tensor(0.9054, grad_fn=<MseLossBackward0>), tensor(0.8879, grad_fn=<MseLossBackward0>), tensor(0.6295, grad_fn=<MseLossBackward0>), tensor(0.6722, grad_fn=<MseLossBackward0>), tensor(1.0096, grad_fn=<MseLossBackward0>), tensor(0.5033, grad_fn=<MseLossBackward0>), tensor(1.1898, grad_fn=<MseLossBackward0>), tensor(0.8928, grad_fn=<MseLossBackward0>), tensor(1.2375, grad_fn=<MseLossBackward0>), tensor(0.9908, grad_fn=<MseLossBackward0>), tensor(0.9285, grad_fn=<MseLossBackward0>), tensor(0.8331, grad_fn=<MseLossBackward0>), tensor(0.7536, grad_fn=<MseLossBackward0>), tensor(1.0789, grad_fn=<MseLossBackward0>), tensor(0.8901, grad_fn=<MseLossBackward0>), tensor(0.6443, grad_fn=<MseLossBackward0>), tensor(0.8134, grad_fn=<MseLossBackward0>), tensor(0.9372, grad_fn=<MseLossBackward0>), tensor(0.4385, grad_fn=<MseLossBackward0>), tensor(1.2894, grad_fn=<MseLossBackward0>), tensor(0.6950, grad_fn=<MseLossBackward0>), tensor(0.8005, grad_fn=<MseLossBackward0>), tensor(1.0425, grad_fn=<MseLossBackward0>), tensor(0.9380, grad_fn=<MseLossBackward0>), tensor(0.9275, grad_fn=<MseLossBackward0>), tensor(0.8651, grad_fn=<MseLossBackward0>), tensor(0.7045, grad_fn=<MseLossBackward0>), tensor(1.1065, grad_fn=<MseLossBackward0>), tensor(0.5748, grad_fn=<MseLossBackward0>), tensor(0.9398, grad_fn=<MseLossBackward0>), tensor(0.7591, grad_fn=<MseLossBackward0>), tensor(0.9859, grad_fn=<MseLossBackward0>), tensor(0.8696, grad_fn=<MseLossBackward0>), tensor(0.6197, grad_fn=<MseLossBackward0>), tensor(0.8312, grad_fn=<MseLossBackward0>), tensor(1.0289, grad_fn=<MseLossBackward0>), tensor(1.4806, grad_fn=<MseLossBackward0>), tensor(0.7771, grad_fn=<MseLossBackward0>), tensor(0.4727, grad_fn=<MseLossBackward0>), tensor(0.7456, grad_fn=<MseLossBackward0>), tensor(0.8355, grad_fn=<MseLossBackward0>), tensor(0.8522, grad_fn=<MseLossBackward0>), tensor(0.6558, grad_fn=<MseLossBackward0>), tensor(0.6714, grad_fn=<MseLossBackward0>), tensor(0.9678, grad_fn=<MseLossBackward0>), tensor(0.6879, grad_fn=<MseLossBackward0>), tensor(0.7873, grad_fn=<MseLossBackward0>), tensor(0.7384, grad_fn=<MseLossBackward0>), tensor(1.1045, grad_fn=<MseLossBackward0>), tensor(1.1818, grad_fn=<MseLossBackward0>), tensor(0.9065, grad_fn=<MseLossBackward0>), tensor(0.6861, grad_fn=<MseLossBackward0>), tensor(0.7982, grad_fn=<MseLossBackward0>), tensor(0.6635, grad_fn=<MseLossBackward0>), tensor(0.9710, grad_fn=<MseLossBackward0>), tensor(0.5480, grad_fn=<MseLossBackward0>), tensor(0.7584, grad_fn=<MseLossBackward0>), tensor(0.4497, grad_fn=<MseLossBackward0>), tensor(0.6636, grad_fn=<MseLossBackward0>), tensor(1.0617, grad_fn=<MseLossBackward0>), tensor(1.1053, grad_fn=<MseLossBackward0>), tensor(0.5287, grad_fn=<MseLossBackward0>), tensor(0.8809, grad_fn=<MseLossBackward0>), tensor(0.4918, grad_fn=<MseLossBackward0>), tensor(0.6548, grad_fn=<MseLossBackward0>), tensor(0.7054, grad_fn=<MseLossBackward0>), tensor(0.7072, grad_fn=<MseLossBackward0>), tensor(0.7340, grad_fn=<MseLossBackward0>), tensor(0.6751, grad_fn=<MseLossBackward0>), tensor(0.7757, grad_fn=<MseLossBackward0>), tensor(0.7973, grad_fn=<MseLossBackward0>), tensor(0.8668, grad_fn=<MseLossBackward0>), tensor(1.0118, grad_fn=<MseLossBackward0>), tensor(0.5826, grad_fn=<MseLossBackward0>), tensor(0.7245, grad_fn=<MseLossBackward0>), tensor(0.9251, grad_fn=<MseLossBackward0>), tensor(0.7143, grad_fn=<MseLossBackward0>), tensor(0.5318, grad_fn=<MseLossBackward0>), tensor(0.8832, grad_fn=<MseLossBackward0>), tensor(0.7309, grad_fn=<MseLossBackward0>), tensor(0.9150, grad_fn=<MseLossBackward0>), tensor(0.8939, grad_fn=<MseLossBackward0>), tensor(0.9704, grad_fn=<MseLossBackward0>), tensor(0.6106, grad_fn=<MseLossBackward0>), tensor(0.9973, grad_fn=<MseLossBackward0>), tensor(0.8282, grad_fn=<MseLossBackward0>), tensor(1.0351, grad_fn=<MseLossBackward0>), tensor(0.9808, grad_fn=<MseLossBackward0>), tensor(1.1132, grad_fn=<MseLossBackward0>), tensor(0.7909, grad_fn=<MseLossBackward0>), tensor(1.1730, grad_fn=<MseLossBackward0>), tensor(0.9103, grad_fn=<MseLossBackward0>), tensor(1.0254, grad_fn=<MseLossBackward0>), tensor(1.0766, grad_fn=<MseLossBackward0>), tensor(1.0036, grad_fn=<MseLossBackward0>), tensor(0.8986, grad_fn=<MseLossBackward0>), tensor(0.5737, grad_fn=<MseLossBackward0>), tensor(0.8749, grad_fn=<MseLossBackward0>), tensor(0.6332, grad_fn=<MseLossBackward0>), tensor(0.8191, grad_fn=<MseLossBackward0>), tensor(1.0304, grad_fn=<MseLossBackward0>), tensor(0.8137, grad_fn=<MseLossBackward0>), tensor(0.9146, grad_fn=<MseLossBackward0>), tensor(0.6187, grad_fn=<MseLossBackward0>), tensor(0.4715, grad_fn=<MseLossBackward0>), tensor(0.7959, grad_fn=<MseLossBackward0>), tensor(0.6595, grad_fn=<MseLossBackward0>), tensor(0.9650, grad_fn=<MseLossBackward0>), tensor(0.6439, grad_fn=<MseLossBackward0>), tensor(0.4623, grad_fn=<MseLossBackward0>), tensor(0.6229, grad_fn=<MseLossBackward0>), tensor(0.5293, grad_fn=<MseLossBackward0>), tensor(0.7889, grad_fn=<MseLossBackward0>), tensor(0.9055, grad_fn=<MseLossBackward0>), tensor(0.7088, grad_fn=<MseLossBackward0>), tensor(1.2574, grad_fn=<MseLossBackward0>), tensor(0.6606, grad_fn=<MseLossBackward0>), tensor(1.1931, grad_fn=<MseLossBackward0>), tensor(0.5648, grad_fn=<MseLossBackward0>), tensor(0.9298, grad_fn=<MseLossBackward0>), tensor(0.5607, grad_fn=<MseLossBackward0>), tensor(1.1349, grad_fn=<MseLossBackward0>), tensor(1.3956, grad_fn=<MseLossBackward0>), tensor(0.7468, grad_fn=<MseLossBackward0>), tensor(1.2873, grad_fn=<MseLossBackward0>), tensor(1.1470, grad_fn=<MseLossBackward0>), tensor(1.0154, grad_fn=<MseLossBackward0>), tensor(0.6938, grad_fn=<MseLossBackward0>), tensor(0.7050, grad_fn=<MseLossBackward0>), tensor(0.7788, grad_fn=<MseLossBackward0>), tensor(0.8055, grad_fn=<MseLossBackward0>), tensor(1.0368, grad_fn=<MseLossBackward0>), tensor(0.6492, grad_fn=<MseLossBackward0>), tensor(0.9476, grad_fn=<MseLossBackward0>), tensor(0.6852, grad_fn=<MseLossBackward0>), tensor(0.8960, grad_fn=<MseLossBackward0>), tensor(0.7973, grad_fn=<MseLossBackward0>), tensor(0.7253, grad_fn=<MseLossBackward0>), tensor(0.7909, grad_fn=<MseLossBackward0>), tensor(0.8770, grad_fn=<MseLossBackward0>), tensor(1.1397, grad_fn=<MseLossBackward0>), tensor(0.7103, grad_fn=<MseLossBackward0>), tensor(0.8889, grad_fn=<MseLossBackward0>), tensor(0.7149, grad_fn=<MseLossBackward0>), tensor(0.7058, grad_fn=<MseLossBackward0>), tensor(0.7824, grad_fn=<MseLossBackward0>), tensor(0.5102, grad_fn=<MseLossBackward0>), tensor(0.6966, grad_fn=<MseLossBackward0>), tensor(0.8311, grad_fn=<MseLossBackward0>), tensor(0.5479, grad_fn=<MseLossBackward0>), tensor(1.0778, grad_fn=<MseLossBackward0>), tensor(0.8566, grad_fn=<MseLossBackward0>), tensor(0.6561, grad_fn=<MseLossBackward0>), tensor(0.6567, grad_fn=<MseLossBackward0>), tensor(0.7284, grad_fn=<MseLossBackward0>), tensor(1.1467, grad_fn=<MseLossBackward0>), tensor(0.5231, grad_fn=<MseLossBackward0>), tensor(0.6691, grad_fn=<MseLossBackward0>), tensor(0.6827, grad_fn=<MseLossBackward0>), tensor(0.7038, grad_fn=<MseLossBackward0>), tensor(0.7375, grad_fn=<MseLossBackward0>), tensor(1.2115, grad_fn=<MseLossBackward0>), tensor(0.6246, grad_fn=<MseLossBackward0>), tensor(0.7549, grad_fn=<MseLossBackward0>), tensor(0.7735, grad_fn=<MseLossBackward0>), tensor(0.7405, grad_fn=<MseLossBackward0>), tensor(0.5378, grad_fn=<MseLossBackward0>), tensor(0.8627, grad_fn=<MseLossBackward0>), tensor(0.7125, grad_fn=<MseLossBackward0>), tensor(0.5391, grad_fn=<MseLossBackward0>), tensor(1.1486, grad_fn=<MseLossBackward0>), tensor(0.6681, grad_fn=<MseLossBackward0>), tensor(1.1289, grad_fn=<MseLossBackward0>), tensor(0.5873, grad_fn=<MseLossBackward0>), tensor(0.7829, grad_fn=<MseLossBackward0>), tensor(0.8312, grad_fn=<MseLossBackward0>), tensor(0.7415, grad_fn=<MseLossBackward0>), tensor(0.5795, grad_fn=<MseLossBackward0>), tensor(1.0224, grad_fn=<MseLossBackward0>), tensor(0.7370, grad_fn=<MseLossBackward0>), tensor(0.6496, grad_fn=<MseLossBackward0>), tensor(0.9610, grad_fn=<MseLossBackward0>), tensor(0.5462, grad_fn=<MseLossBackward0>), tensor(0.7456, grad_fn=<MseLossBackward0>), tensor(0.5748, grad_fn=<MseLossBackward0>), tensor(0.9357, grad_fn=<MseLossBackward0>), tensor(0.8967, grad_fn=<MseLossBackward0>), tensor(1.0661, grad_fn=<MseLossBackward0>), tensor(0.6147, grad_fn=<MseLossBackward0>), tensor(0.5573, grad_fn=<MseLossBackward0>), tensor(0.5829, grad_fn=<MseLossBackward0>), tensor(1.5585, grad_fn=<MseLossBackward0>), tensor(0.9037, grad_fn=<MseLossBackward0>), tensor(0.5455, grad_fn=<MseLossBackward0>), tensor(0.6164, grad_fn=<MseLossBackward0>), tensor(0.8464, grad_fn=<MseLossBackward0>), tensor(0.8631, grad_fn=<MseLossBackward0>), tensor(1.4156, grad_fn=<MseLossBackward0>), tensor(0.7084, grad_fn=<MseLossBackward0>), tensor(1.1502, grad_fn=<MseLossBackward0>), tensor(1.2978, grad_fn=<MseLossBackward0>), tensor(0.7649, grad_fn=<MseLossBackward0>), tensor(1.4746, grad_fn=<MseLossBackward0>), tensor(0.9070, grad_fn=<MseLossBackward0>), tensor(0.6645, grad_fn=<MseLossBackward0>), tensor(0.9147, grad_fn=<MseLossBackward0>), tensor(0.8917, grad_fn=<MseLossBackward0>), tensor(0.7222, grad_fn=<MseLossBackward0>), tensor(0.7936, grad_fn=<MseLossBackward0>), tensor(0.4661, grad_fn=<MseLossBackward0>), tensor(1.2585, grad_fn=<MseLossBackward0>), tensor(0.6037, grad_fn=<MseLossBackward0>), tensor(0.5713, grad_fn=<MseLossBackward0>), tensor(1.1579, grad_fn=<MseLossBackward0>), tensor(0.7731, grad_fn=<MseLossBackward0>), tensor(0.9205, grad_fn=<MseLossBackward0>), tensor(0.9094, grad_fn=<MseLossBackward0>), tensor(1.3419, grad_fn=<MseLossBackward0>), tensor(0.9523, grad_fn=<MseLossBackward0>), tensor(0.7104, grad_fn=<MseLossBackward0>), tensor(0.9119, grad_fn=<MseLossBackward0>), tensor(1.3731, grad_fn=<MseLossBackward0>), tensor(0.4974, grad_fn=<MseLossBackward0>), tensor(0.7906, grad_fn=<MseLossBackward0>), tensor(0.8105, grad_fn=<MseLossBackward0>), tensor(0.9330, grad_fn=<MseLossBackward0>), tensor(0.5897, grad_fn=<MseLossBackward0>), tensor(0.9653, grad_fn=<MseLossBackward0>), tensor(0.7466, grad_fn=<MseLossBackward0>), tensor(0.9187, grad_fn=<MseLossBackward0>), tensor(1.0620, grad_fn=<MseLossBackward0>), tensor(0.6512, grad_fn=<MseLossBackward0>), tensor(0.9374, grad_fn=<MseLossBackward0>), tensor(0.6883, grad_fn=<MseLossBackward0>), tensor(0.7373, grad_fn=<MseLossBackward0>), tensor(0.6154, grad_fn=<MseLossBackward0>), tensor(1.1874, grad_fn=<MseLossBackward0>), tensor(0.7525, grad_fn=<MseLossBackward0>), tensor(0.9251, grad_fn=<MseLossBackward0>), tensor(0.6239, grad_fn=<MseLossBackward0>), tensor(0.5108, grad_fn=<MseLossBackward0>), tensor(0.6703, grad_fn=<MseLossBackward0>), tensor(0.9870, grad_fn=<MseLossBackward0>), tensor(0.9314, grad_fn=<MseLossBackward0>), tensor(0.6129, grad_fn=<MseLossBackward0>), tensor(0.5823, grad_fn=<MseLossBackward0>), tensor(0.9119, grad_fn=<MseLossBackward0>), tensor(0.4094, grad_fn=<MseLossBackward0>), tensor(0.9637, grad_fn=<MseLossBackward0>), tensor(0.6832, grad_fn=<MseLossBackward0>), tensor(0.8911, grad_fn=<MseLossBackward0>), tensor(0.7092, grad_fn=<MseLossBackward0>), tensor(1.1481, grad_fn=<MseLossBackward0>), tensor(0.7292, grad_fn=<MseLossBackward0>), tensor(0.7683, grad_fn=<MseLossBackward0>), tensor(0.6190, grad_fn=<MseLossBackward0>), tensor(0.6955, grad_fn=<MseLossBackward0>), tensor(0.4777, grad_fn=<MseLossBackward0>), tensor(0.8914, grad_fn=<MseLossBackward0>), tensor(0.6732, grad_fn=<MseLossBackward0>), tensor(0.6126, grad_fn=<MseLossBackward0>), tensor(1.2429, grad_fn=<MseLossBackward0>), tensor(0.5278, grad_fn=<MseLossBackward0>), tensor(1.0103, grad_fn=<MseLossBackward0>), tensor(0.9723, grad_fn=<MseLossBackward0>), tensor(0.9561, grad_fn=<MseLossBackward0>), tensor(0.7339, grad_fn=<MseLossBackward0>), tensor(0.9676, grad_fn=<MseLossBackward0>), tensor(0.5205, grad_fn=<MseLossBackward0>), tensor(0.5858, grad_fn=<MseLossBackward0>), tensor(0.5663, grad_fn=<MseLossBackward0>), tensor(0.5563, grad_fn=<MseLossBackward0>), tensor(0.7875, grad_fn=<MseLossBackward0>), tensor(0.8512, grad_fn=<MseLossBackward0>), tensor(0.7838, grad_fn=<MseLossBackward0>), tensor(0.7163, grad_fn=<MseLossBackward0>), tensor(0.7396, grad_fn=<MseLossBackward0>), tensor(0.9548, grad_fn=<MseLossBackward0>), tensor(0.8072, grad_fn=<MseLossBackward0>), tensor(0.5669, grad_fn=<MseLossBackward0>), tensor(0.5380, grad_fn=<MseLossBackward0>), tensor(1.1131, grad_fn=<MseLossBackward0>), tensor(0.6516, grad_fn=<MseLossBackward0>), tensor(0.7444, grad_fn=<MseLossBackward0>), tensor(0.8982, grad_fn=<MseLossBackward0>), tensor(1.1818, grad_fn=<MseLossBackward0>), tensor(1.7303, grad_fn=<MseLossBackward0>), tensor(0.6465, grad_fn=<MseLossBackward0>), tensor(0.6186, grad_fn=<MseLossBackward0>), tensor(1.2533, grad_fn=<MseLossBackward0>), tensor(1.0146, grad_fn=<MseLossBackward0>), tensor(0.7977, grad_fn=<MseLossBackward0>), tensor(0.8239, grad_fn=<MseLossBackward0>), tensor(0.8013, grad_fn=<MseLossBackward0>), tensor(0.7623, grad_fn=<MseLossBackward0>), tensor(0.8796, grad_fn=<MseLossBackward0>), tensor(0.6104, grad_fn=<MseLossBackward0>), tensor(0.9694, grad_fn=<MseLossBackward0>), tensor(1.2604, grad_fn=<MseLossBackward0>), tensor(0.7556, grad_fn=<MseLossBackward0>), tensor(0.4293, grad_fn=<MseLossBackward0>), tensor(0.5147, grad_fn=<MseLossBackward0>), tensor(0.9187, grad_fn=<MseLossBackward0>), tensor(0.7513, grad_fn=<MseLossBackward0>), tensor(0.7892, grad_fn=<MseLossBackward0>), tensor(0.9510, grad_fn=<MseLossBackward0>), tensor(0.5589, grad_fn=<MseLossBackward0>), tensor(1.0899, grad_fn=<MseLossBackward0>), tensor(0.6853, grad_fn=<MseLossBackward0>), tensor(0.9310, grad_fn=<MseLossBackward0>), tensor(0.6643, grad_fn=<MseLossBackward0>), tensor(0.4794, grad_fn=<MseLossBackward0>), tensor(0.5296, grad_fn=<MseLossBackward0>), tensor(1.0327, grad_fn=<MseLossBackward0>), tensor(0.4538, grad_fn=<MseLossBackward0>), tensor(0.8036, grad_fn=<MseLossBackward0>), tensor(0.7641, grad_fn=<MseLossBackward0>), tensor(0.5980, grad_fn=<MseLossBackward0>), tensor(1.1643, grad_fn=<MseLossBackward0>), tensor(1.0376, grad_fn=<MseLossBackward0>), tensor(0.5808, grad_fn=<MseLossBackward0>), tensor(0.4678, grad_fn=<MseLossBackward0>), tensor(1.3218, grad_fn=<MseLossBackward0>), tensor(0.9112, grad_fn=<MseLossBackward0>), tensor(0.6217, grad_fn=<MseLossBackward0>), tensor(0.6417, grad_fn=<MseLossBackward0>), tensor(0.8954, grad_fn=<MseLossBackward0>), tensor(0.4526, grad_fn=<MseLossBackward0>), tensor(0.6931, grad_fn=<MseLossBackward0>), tensor(0.6275, grad_fn=<MseLossBackward0>), tensor(0.8175, grad_fn=<MseLossBackward0>), tensor(0.8913, grad_fn=<MseLossBackward0>), tensor(1.1322, grad_fn=<MseLossBackward0>), tensor(0.7160, grad_fn=<MseLossBackward0>), tensor(0.7166, grad_fn=<MseLossBackward0>), tensor(0.7166, grad_fn=<MseLossBackward0>), tensor(1.0860, grad_fn=<MseLossBackward0>), tensor(1.0603, grad_fn=<MseLossBackward0>), tensor(0.8362, grad_fn=<MseLossBackward0>), tensor(0.7032, grad_fn=<MseLossBackward0>), tensor(0.8793, grad_fn=<MseLossBackward0>), tensor(0.6885, grad_fn=<MseLossBackward0>), tensor(1.2249, grad_fn=<MseLossBackward0>), tensor(0.9226, grad_fn=<MseLossBackward0>), tensor(0.9040, grad_fn=<MseLossBackward0>), tensor(0.6689, grad_fn=<MseLossBackward0>), tensor(0.8969, grad_fn=<MseLossBackward0>), tensor(1.0040, grad_fn=<MseLossBackward0>), tensor(0.8470, grad_fn=<MseLossBackward0>), tensor(0.5948, grad_fn=<MseLossBackward0>), tensor(0.5763, grad_fn=<MseLossBackward0>), tensor(0.8222, grad_fn=<MseLossBackward0>), tensor(0.4929, grad_fn=<MseLossBackward0>), tensor(0.9121, grad_fn=<MseLossBackward0>), tensor(0.4743, grad_fn=<MseLossBackward0>), tensor(0.6282, grad_fn=<MseLossBackward0>), tensor(1.0846, grad_fn=<MseLossBackward0>), tensor(0.6658, grad_fn=<MseLossBackward0>), tensor(0.6793, grad_fn=<MseLossBackward0>), tensor(0.6979, grad_fn=<MseLossBackward0>), tensor(1.0373, grad_fn=<MseLossBackward0>), tensor(0.5265, grad_fn=<MseLossBackward0>), tensor(0.6204, grad_fn=<MseLossBackward0>), tensor(0.9993, grad_fn=<MseLossBackward0>), tensor(0.4841, grad_fn=<MseLossBackward0>), tensor(0.7832, grad_fn=<MseLossBackward0>), tensor(0.8780, grad_fn=<MseLossBackward0>), tensor(0.9800, grad_fn=<MseLossBackward0>), tensor(0.5029, grad_fn=<MseLossBackward0>), tensor(0.6177, grad_fn=<MseLossBackward0>), tensor(1.0602, grad_fn=<MseLossBackward0>), tensor(0.9056, grad_fn=<MseLossBackward0>), tensor(0.9898, grad_fn=<MseLossBackward0>), tensor(1.2438, grad_fn=<MseLossBackward0>), tensor(0.5667, grad_fn=<MseLossBackward0>), tensor(0.7092, grad_fn=<MseLossBackward0>), tensor(0.6674, grad_fn=<MseLossBackward0>), tensor(0.6315, grad_fn=<MseLossBackward0>), tensor(0.6751, grad_fn=<MseLossBackward0>), tensor(0.5625, grad_fn=<MseLossBackward0>), tensor(0.7600, grad_fn=<MseLossBackward0>), tensor(0.5182, grad_fn=<MseLossBackward0>), tensor(0.6687, grad_fn=<MseLossBackward0>), tensor(1.0536, grad_fn=<MseLossBackward0>), tensor(0.6123, grad_fn=<MseLossBackward0>), tensor(0.8888, grad_fn=<MseLossBackward0>), tensor(0.6661, grad_fn=<MseLossBackward0>), tensor(1.0956, grad_fn=<MseLossBackward0>), tensor(0.7291, grad_fn=<MseLossBackward0>), tensor(0.8737, grad_fn=<MseLossBackward0>), tensor(0.8550, grad_fn=<MseLossBackward0>), tensor(0.9736, grad_fn=<MseLossBackward0>), tensor(0.6725, grad_fn=<MseLossBackward0>), tensor(1.0036, grad_fn=<MseLossBackward0>), tensor(0.8061, grad_fn=<MseLossBackward0>), tensor(0.6603, grad_fn=<MseLossBackward0>), tensor(0.6714, grad_fn=<MseLossBackward0>), tensor(1.5542, grad_fn=<MseLossBackward0>), tensor(0.6169, grad_fn=<MseLossBackward0>), tensor(0.7595, grad_fn=<MseLossBackward0>), tensor(1.1618, grad_fn=<MseLossBackward0>), tensor(0.6716, grad_fn=<MseLossBackward0>), tensor(0.6905, grad_fn=<MseLossBackward0>), tensor(0.6176, grad_fn=<MseLossBackward0>), tensor(0.9049, grad_fn=<MseLossBackward0>), tensor(0.7977, grad_fn=<MseLossBackward0>), tensor(0.6689, grad_fn=<MseLossBackward0>), tensor(0.9111, grad_fn=<MseLossBackward0>), tensor(0.5726, grad_fn=<MseLossBackward0>), tensor(0.7569, grad_fn=<MseLossBackward0>), tensor(0.5333, grad_fn=<MseLossBackward0>), tensor(0.6461, grad_fn=<MseLossBackward0>), tensor(0.8865, grad_fn=<MseLossBackward0>), tensor(0.7251, grad_fn=<MseLossBackward0>), tensor(0.6349, grad_fn=<MseLossBackward0>), tensor(0.9542, grad_fn=<MseLossBackward0>), tensor(0.4661, grad_fn=<MseLossBackward0>), tensor(0.9418, grad_fn=<MseLossBackward0>), tensor(0.5429, grad_fn=<MseLossBackward0>), tensor(0.7430, grad_fn=<MseLossBackward0>), tensor(1.4663, grad_fn=<MseLossBackward0>), tensor(0.5377, grad_fn=<MseLossBackward0>), tensor(0.9217, grad_fn=<MseLossBackward0>), tensor(0.8966, grad_fn=<MseLossBackward0>), tensor(0.7145, grad_fn=<MseLossBackward0>), tensor(0.8510, grad_fn=<MseLossBackward0>), tensor(0.6165, grad_fn=<MseLossBackward0>), tensor(0.5817, grad_fn=<MseLossBackward0>), tensor(0.6987, grad_fn=<MseLossBackward0>), tensor(0.5569, grad_fn=<MseLossBackward0>)]\n"
          ]
        },
        {
          "output_type": "execute_result",
          "data": {
            "text/plain": [
              "<Axes: >"
            ]
          },
          "metadata": {},
          "execution_count": 134
        },
        {
          "output_type": "display_data",
          "data": {
            "text/plain": [
              "<Figure size 640x480 with 1 Axes>"
            ],
            "image/png": "[encoded data removed]"
          },
          "metadata": {}
        }
      ]
    },
    {
      "cell_type": "code",
      "source": [
        "#test predicition"
      ],
      "metadata": {
        "id": "0SOnfB5fT09m"
      },
      "execution_count": null,
      "outputs": []
    },
    {
      "cell_type": "code",
      "source": [
        "# prompt: code fo test predicition and append them in a dataframe\n",
        "\n",
        "import pandas as pd\n",
        "for batch in test_loader:\n",
        "  with torch.no_grad():\n",
        "    pred, h = Model(test_batch.x.float(), test_batch.edge_index, test_batch.batch)\n",
        "    df = pd.DataFrame()\n",
        "    df['pred_val'] = pred.tolist()\n",
        "    df['actual_val'] = test_batch.y.tolist()\n",
        "df[\"pred_val\"] = df[\"pred_val\"].apply(lambda row: row[0])\n",
        "df[\"actual_val\"] = df[\"actual_val\"].apply(lambda row: row[0])\n",
        "df\n"
      ],
      "metadata": {
        "colab": {
          "base_uri": "https://localhost:8080/",
          "height": 423
        },
        "id": "eXttAUSiYA_N",
        "outputId": "c01741e5-2676-490e-9a4b-5c22cb06fede"
      },
      "execution_count": null,
      "outputs": [
        {
          "output_type": "execute_result",
          "data": {
            "text/plain": [
              "    pred_val  actual_val\n",
              "0  -4.317992      -3.660\n",
              "1  -0.578896      -0.620\n",
              "2  -3.266693      -4.400\n",
              "3  -2.653705      -3.530\n",
              "4  -0.516182      -1.506\n",
              "..       ...         ...\n",
              "59 -1.567052      -1.210\n",
              "60 -3.678950      -3.780\n",
              "61 -2.275148      -1.989\n",
              "62 -2.708104      -2.310\n",
              "63 -3.641240      -3.840\n",
              "\n",
              "[64 rows x 2 columns]"
            ],
            "text/html": [
              "\n",
              "  <div id=\"df-a7fb355f-d314-44d7-a80d-c527ad09eed4\" class=\"colab-df-container\">\n",
              "    <div>\n",
              "<style scoped>\n",
              "    .dataframe tbody tr th:only-of-type {\n",
              "        vertical-align: middle;\n",
              "    }\n",
              "\n",
              "    .dataframe tbody tr th {\n",
              "        vertical-align: top;\n",
              "    }\n",
              "\n",
              "    .dataframe thead th {\n",
              "        text-align: right;\n",
              "    }\n",
              "</style>\n",
              "<table border=\"1\" class=\"dataframe\">\n",
              "  <thead>\n",
              "    <tr style=\"text-align: right;\">\n",
              "      <th></th>\n",
              "      <th>pred_val</th>\n",
              "      <th>actual_val</th>\n",
              "    </tr>\n",
              "  </thead>\n",
              "  <tbody>\n",
              "    <tr>\n",
              "      <th>0</th>\n",
              "      <td>-4.317992</td>\n",
              "      <td>-3.660</td>\n",
              "    </tr>\n",
              "    <tr>\n",
              "      <th>1</th>\n",
              "      <td>-0.578896</td>\n",
              "      <td>-0.620</td>\n",
              "    </tr>\n",
              "    <tr>\n",
              "      <th>2</th>\n",
              "      <td>-3.266693</td>\n",
              "      <td>-4.400</td>\n",
              "    </tr>\n",
              "    <tr>\n",
              "      <th>3</th>\n",
              "      <td>-2.653705</td>\n",
              "      <td>-3.530</td>\n",
              "    </tr>\n",
              "    <tr>\n",
              "      <th>4</th>\n",
              "      <td>-0.516182</td>\n",
              "      <td>-1.506</td>\n",
              "    </tr>\n",
              "    <tr>\n",
              "      <th>...</th>\n",
              "      <td>...</td>\n",
              "      <td>...</td>\n",
              "    </tr>\n",
              "    <tr>\n",
              "      <th>59</th>\n",
              "      <td>-1.567052</td>\n",
              "      <td>-1.210</td>\n",
              "    </tr>\n",
              "    <tr>\n",
              "      <th>60</th>\n",
              "      <td>-3.678950</td>\n",
              "      <td>-3.780</td>\n",
              "    </tr>\n",
              "    <tr>\n",
              "      <th>61</th>\n",
              "      <td>-2.275148</td>\n",
              "      <td>-1.989</td>\n",
              "    </tr>\n",
              "    <tr>\n",
              "      <th>62</th>\n",
              "      <td>-2.708104</td>\n",
              "      <td>-2.310</td>\n",
              "    </tr>\n",
              "    <tr>\n",
              "      <th>63</th>\n",
              "      <td>-3.641240</td>\n",
              "      <td>-3.840</td>\n",
              "    </tr>\n",
              "  </tbody>\n",
              "</table>\n",
              "<p>64 rows × 2 columns</p>\n",
              "</div>\n",
              "    <div class=\"colab-df-buttons\">\n",
              "\n",
              "  <div class=\"colab-df-container\">\n",
              "    <button class=\"colab-df-convert\" onclick=\"convertToInteractive('df-a7fb355f-d314-44d7-a80d-c527ad09eed4')\"\n",
              "            title=\"Convert this dataframe to an interactive table.\"\n",
              "            style=\"display:none;\">\n",
              "\n",
              "  <svg xmlns=\"http://www.w3.org/2000/svg\" height=\"24px\" viewBox=\"0 -960 960 960\">\n",
              "    <path d=\"M120-120v-720h720v720H120Zm60-500h600v-160H180v160Zm220 220h160v-160H400v160Zm0 220h160v-160H400v160ZM180-400h160v-160H180v160Zm440 0h160v-160H620v160ZM180-180h160v-160H180v160Zm440 0h160v-160H620v160Z\"/>\n",
              "  </svg>\n",
              "    </button>\n",
              "\n",
              "  <style>\n",
              "    .colab-df-container {\n",
              "      display:flex;\n",
              "      gap: 12px;\n",
              "    }\n",
              "\n",
              "    .colab-df-convert {\n",
              "      background-color: #E8F0FE;\n",
              "      border: none;\n",
              "      border-radius: 50%;\n",
              "      cursor: pointer;\n",
              "      display: none;\n",
              "      fill: #1967D2;\n",
              "      height: 32px;\n",
              "      padding: 0 0 0 0;\n",
              "      width: 32px;\n",
              "    }\n",
              "\n",
              "    .colab-df-convert:hover {\n",
              "      background-color: #E2EBFA;\n",
              "      box-shadow: 0px 1px 2px rgba(60, 64, 67, 0.3), 0px 1px 3px 1px rgba(60, 64, 67, 0.15);\n",
              "      fill: #174EA6;\n",
              "    }\n",
              "\n",
              "    .colab-df-buttons div {\n",
              "      margin-bottom: 4px;\n",
              "    }\n",
              "\n",
              "    [theme=dark] .colab-df-convert {\n",
              "      background-color: #3B4455;\n",
              "      fill: #D2E3FC;\n",
              "    }\n",
              "\n",
              "    [theme=dark] .colab-df-convert:hover {\n",
              "      background-color: #434B5C;\n",
              "      box-shadow: 0px 1px 3px 1px rgba(0, 0, 0, 0.15);\n",
              "      filter: drop-shadow(0px 1px 2px rgba(0, 0, 0, 0.3));\n",
              "      fill: #FFFFFF;\n",
              "    }\n",
              "  </style>\n",
              "\n",
              "    <script>\n",
              "      const buttonEl =\n",
              "        document.querySelector('#df-a7fb355f-d314-44d7-a80d-c527ad09eed4 button.colab-df-convert');\n",
              "      buttonEl.style.display =\n",
              "        google.colab.kernel.accessAllowed ? 'block' : 'none';\n",
              "\n",
              "      async function convertToInteractive(key) {\n",
              "        const element = document.querySelector('#df-a7fb355f-d314-44d7-a80d-c527ad09eed4');\n",
              "        const dataTable =\n",
              "          await google.colab.kernel.invokeFunction('convertToInteractive',\n",
              "                                                    [key], {});\n",
              "        if (!dataTable) return;\n",
              "\n",
              "        const docLinkHtml = 'Like what you see? Visit the ' +\n",
              "          '<a target=\"_blank\" href=https://colab.research.google.com/notebooks/data_table.ipynb>data table notebook</a>'\n",
              "          + ' to learn more about interactive tables.';\n",
              "        element.innerHTML = '';\n",
              "        dataTable['output_type'] = 'display_data';\n",
              "        await google.colab.output.renderOutput(dataTable, element);\n",
              "        const docLink = document.createElement('div');\n",
              "        docLink.innerHTML = docLinkHtml;\n",
              "        element.appendChild(docLink);\n",
              "      }\n",
              "    </script>\n",
              "  </div>\n",
              "\n",
              "\n",
              "<div id=\"df-41af4e4c-1125-4629-bdd3-00086b8216fa\">\n",
              "  <button class=\"colab-df-quickchart\" onclick=\"quickchart('df-41af4e4c-1125-4629-bdd3-00086b8216fa')\"\n",
              "            title=\"Suggest charts\"\n",
              "            style=\"display:none;\">\n",
              "\n",
              "<svg xmlns=\"http://www.w3.org/2000/svg\" height=\"24px\"viewBox=\"0 0 24 24\"\n",
              "     width=\"24px\">\n",
              "    <g>\n",
              "        <path d=\"M19 3H5c-1.1 0-2 .9-2 2v14c0 1.1.9 2 2 2h14c1.1 0 2-.9 2-2V5c0-1.1-.9-2-2-2zM9 17H7v-7h2v7zm4 0h-2V7h2v10zm4 0h-2v-4h2v4z\"/>\n",
              "    </g>\n",
              "</svg>\n",
              "  </button>\n",
              "\n",
              "<style>\n",
              "  .colab-df-quickchart {\n",
              "      --bg-color: #E8F0FE;\n",
              "      --fill-color: #1967D2;\n",
              "      --hover-bg-color: #E2EBFA;\n",
              "      --hover-fill-color: #174EA6;\n",
              "      --disabled-fill-color: #AAA;\n",
              "      --disabled-bg-color: #DDD;\n",
              "  }\n",
              "\n",
              "  [theme=dark] .colab-df-quickchart {\n",
              "      --bg-color: #3B4455;\n",
              "      --fill-color: #D2E3FC;\n",
              "      --hover-bg-color: #434B5C;\n",
              "      --hover-fill-color: #FFFFFF;\n",
              "      --disabled-bg-color: #3B4455;\n",
              "      --disabled-fill-color: #666;\n",
              "  }\n",
              "\n",
              "  .colab-df-quickchart {\n",
              "    background-color: var(--bg-color);\n",
              "    border: none;\n",
              "    border-radius: 50%;\n",
              "    cursor: pointer;\n",
              "    display: none;\n",
              "    fill: var(--fill-color);\n",
              "    height: 32px;\n",
              "    padding: 0;\n",
              "    width: 32px;\n",
              "  }\n",
              "\n",
              "  .colab-df-quickchart:hover {\n",
              "    background-color: var(--hover-bg-color);\n",
              "    box-shadow: 0 1px 2px rgba(60, 64, 67, 0.3), 0 1px 3px 1px rgba(60, 64, 67, 0.15);\n",
              "    fill: var(--button-hover-fill-color);\n",
              "  }\n",
              "\n",
              "  .colab-df-quickchart-complete:disabled,\n",
              "  .colab-df-quickchart-complete:disabled:hover {\n",
              "    background-color: var(--disabled-bg-color);\n",
              "    fill: var(--disabled-fill-color);\n",
              "    box-shadow: none;\n",
              "  }\n",
              "\n",
              "  .colab-df-spinner {\n",
              "    border: 2px solid var(--fill-color);\n",
              "    border-color: transparent;\n",
              "    border-bottom-color: var(--fill-color);\n",
              "    animation:\n",
              "      spin 1s steps(1) infinite;\n",
              "  }\n",
              "\n",
              "  @keyframes spin {\n",
              "    0% {\n",
              "      border-color: transparent;\n",
              "      border-bottom-color: var(--fill-color);\n",
              "      border-left-color: var(--fill-color);\n",
              "    }\n",
              "    20% {\n",
              "      border-color: transparent;\n",
              "      border-left-color: var(--fill-color);\n",
              "      border-top-color: var(--fill-color);\n",
              "    }\n",
              "    30% {\n",
              "      border-color: transparent;\n",
              "      border-left-color: var(--fill-color);\n",
              "      border-top-color: var(--fill-color);\n",
              "      border-right-color: var(--fill-color);\n",
              "    }\n",
              "    40% {\n",
              "      border-color: transparent;\n",
              "      border-right-color: var(--fill-color);\n",
              "      border-top-color: var(--fill-color);\n",
              "    }\n",
              "    60% {\n",
              "      border-color: transparent;\n",
              "      border-right-color: var(--fill-color);\n",
              "    }\n",
              "    80% {\n",
              "      border-color: transparent;\n",
              "      border-right-color: var(--fill-color);\n",
              "      border-bottom-color: var(--fill-color);\n",
              "    }\n",
              "    90% {\n",
              "      border-color: transparent;\n",
              "      border-bottom-color: var(--fill-color);\n",
              "    }\n",
              "  }\n",
              "</style>\n",
              "\n",
              "  <script>\n",
              "    async function quickchart(key) {\n",
              "      const quickchartButtonEl =\n",
              "        document.querySelector('#' + key + ' button');\n",
              "      quickchartButtonEl.disabled = true;  // To prevent multiple clicks.\n",
              "      quickchartButtonEl.classList.add('colab-df-spinner');\n",
              "      try {\n",
              "        const charts = await google.colab.kernel.invokeFunction(\n",
              "            'suggestCharts', [key], {});\n",
              "      } catch (error) {\n",
              "        console.error('Error during call to suggestCharts:', error);\n",
              "      }\n",
              "      quickchartButtonEl.classList.remove('colab-df-spinner');\n",
              "      quickchartButtonEl.classList.add('colab-df-quickchart-complete');\n",
              "    }\n",
              "    (() => {\n",
              "      let quickchartButtonEl =\n",
              "        document.querySelector('#df-41af4e4c-1125-4629-bdd3-00086b8216fa button');\n",
              "      quickchartButtonEl.style.display =\n",
              "        google.colab.kernel.accessAllowed ? 'block' : 'none';\n",
              "    })();\n",
              "  </script>\n",
              "</div>\n",
              "\n",
              "  <div id=\"id_15d0aede-92dc-48c9-8b93-74e1e09f1db6\">\n",
              "    <style>\n",
              "      .colab-df-generate {\n",
              "        background-color: #E8F0FE;\n",
              "        border: none;\n",
              "        border-radius: 50%;\n",
              "        cursor: pointer;\n",
              "        display: none;\n",
              "        fill: #1967D2;\n",
              "        height: 32px;\n",
              "        padding: 0 0 0 0;\n",
              "        width: 32px;\n",
              "      }\n",
              "\n",
              "      .colab-df-generate:hover {\n",
              "        background-color: #E2EBFA;\n",
              "        box-shadow: 0px 1px 2px rgba(60, 64, 67, 0.3), 0px 1px 3px 1px rgba(60, 64, 67, 0.15);\n",
              "        fill: #174EA6;\n",
              "      }\n",
              "\n",
              "      [theme=dark] .colab-df-generate {\n",
              "        background-color: #3B4455;\n",
              "        fill: #D2E3FC;\n",
              "      }\n",
              "\n",
              "      [theme=dark] .colab-df-generate:hover {\n",
              "        background-color: #434B5C;\n",
              "        box-shadow: 0px 1px 3px 1px rgba(0, 0, 0, 0.15);\n",
              "        filter: drop-shadow(0px 1px 2px rgba(0, 0, 0, 0.3));\n",
              "        fill: #FFFFFF;\n",
              "      }\n",
              "    </style>\n",
              "    <button class=\"colab-df-generate\" onclick=\"generateWithVariable('df')\"\n",
              "            title=\"Generate code using this dataframe.\"\n",
              "            style=\"display:none;\">\n",
              "\n",
              "  <svg xmlns=\"http://www.w3.org/2000/svg\" height=\"24px\"viewBox=\"0 0 24 24\"\n",
              "       width=\"24px\">\n",
              "    <path d=\"M7,19H8.4L18.45,9,17,7.55,7,17.6ZM5,21V16.75L18.45,3.32a2,2,0,0,1,2.83,0l1.4,1.43a1.91,1.91,0,0,1,.58,1.4,1.91,1.91,0,0,1-.58,1.4L9.25,21ZM18.45,9,17,7.55Zm-12,3A5.31,5.31,0,0,0,4.9,8.1,5.31,5.31,0,0,0,1,6.5,5.31,5.31,0,0,0,4.9,4.9,5.31,5.31,0,0,0,6.5,1,5.31,5.31,0,0,0,8.1,4.9,5.31,5.31,0,0,0,12,6.5,5.46,5.46,0,0,0,6.5,12Z\"/>\n",
              "  </svg>\n",
              "    </button>\n",
              "    <script>\n",
              "      (() => {\n",
              "      const buttonEl =\n",
              "        document.querySelector('#id_15d0aede-92dc-48c9-8b93-74e1e09f1db6 button.colab-df-generate');\n",
              "      buttonEl.style.display =\n",
              "        google.colab.kernel.accessAllowed ? 'block' : 'none';\n",
              "\n",
              "      buttonEl.onclick = () => {\n",
              "        google.colab.notebook.generateWithVariable('df');\n",
              "      }\n",
              "      })();\n",
              "    </script>\n",
              "  </div>\n",
              "\n",
              "    </div>\n",
              "  </div>\n"
            ],
            "application/vnd.google.colaboratory.intrinsic+json": {
              "type": "dataframe",
              "variable_name": "df",
              "summary": "{\n  \"name\": \"df\",\n  \"rows\": 64,\n  \"fields\": [\n    {\n      \"column\": \"pred_val\",\n      \"properties\": {\n        \"dtype\": \"number\",\n        \"std\": 1.8869329887055857,\n        \"min\": -8.349784851074219,\n        \"max\": 0.7786532640457153,\n        \"num_unique_values\": 64,\n        \"samples\": [\n          -6.260501384735107,\n          -4.083621978759766,\n          -4.317991733551025\n        ],\n        \"semantic_type\": \"\",\n        \"description\": \"\"\n      }\n    },\n    {\n      \"column\": \"actual_val\",\n      \"properties\": {\n        \"dtype\": \"number\",\n        \"std\": 1.985918518156535,\n        \"min\": -9.15999984741211,\n        \"max\": 0.7599999904632568,\n        \"num_unique_values\": 61,\n        \"samples\": [\n          -3.6600000858306885,\n          -4.039999961853027,\n          -4.619999885559082\n        ],\n        \"semantic_type\": \"\",\n        \"description\": \"\"\n      }\n    }\n  ]\n}"
            }
          },
          "metadata": {},
          "execution_count": 131
        }
      ]
    },
    {
      "cell_type": "code",
      "source": [],
      "metadata": {
        "id": "GCz3OdKYgBVo"
      },
      "execution_count": null,
      "outputs": []
    }
  ]
}